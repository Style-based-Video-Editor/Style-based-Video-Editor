{
 "cells": [
  {
   "cell_type": "code",
   "execution_count": null,
   "metadata": {},
   "outputs": [],
   "source": [
    "import subprocess\n",
    "import os\n",
    "import malaya_speech\n",
    "import numpy as np\n",
    "from malaya_speech import Pipeline\n",
    "\n",
    "class VoiceEmotion():\n",
    "\n",
    "    deep_speaker = malaya_speech.emotion.deep_model(model =\"deep-speaker\",validate = False)\n",
    "    vad = malaya_speech.vad.deep_model(model = 'vggvox-v2')\n",
    "    y, sr = malaya_speech.load(audio_path)\n",
    "\n",
    "    def __init__(self) -> None:\n",
    "        \n",
    "        selfdeep_speaker = malaya_speech.emotion.deep_model(model =\"deep-speaker\",validate = False)\n",
    "        self.vad = malaya_speech.vad.deep_model(model = 'vggvox-v2')        \n",
    "\n",
    "    y, sr = malaya_speech.load(audio_path)\n",
    "\n",
    "    def predict(self):\n",
    "        frames = list(malaya_speech.utils.generator.frames(self.y, 30,self.sr))\n",
    "        p = Pipeline()\n",
    "        pipeline = (\n",
    "            p.batching(5)\n",
    "            .foreach_map(self.vad.predict)\n",
    "            .flatten()\n",
    "        )\n",
    "        result = p.emit(frames)\n",
    "        result.keys()\n",
    "        frames_vad = [(frame, result['flatten'][no]) for no, frame in enumerate(frames)]\n",
    "        grouped_vad = malaya_speech.utils.group.group_frames(frames_vad)\n",
    "        grouped_vad = malaya_speech.utils.group.group_frames_threshold(grouped_vad, threshold_to_stop = 0.3)\n",
    "        p_deep_speaker = Pipeline()\n",
    "        pipeline = (\n",
    "            p_deep_speaker.foreach_map(self.deep_speaker)\n",
    "            .flatten()\n",
    "        )\n",
    "        samples_vad = [g[0] for g in grouped_vad]\n",
    "        result_deep_speaker = p_deep_speaker.emit(samples_vad)\n",
    "        result_deep_speaker.keys()\n",
    "        samples_vad_deep_speaker = [(frame, result_deep_speaker['flatten'][no]) for no, frame in enumerate(samples_vad)]\n",
    "        samples_vad_deep_speaker"
   ]
  }
 ],
 "metadata": {
  "language_info": {
   "name": "python"
  },
  "orig_nbformat": 4
 },
 "nbformat": 4,
 "nbformat_minor": 2
}
