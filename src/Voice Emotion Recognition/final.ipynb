{
 "cells": [
  {
   "cell_type": "markdown",
   "metadata": {},
   "source": [
    "# Emotion Detection"
   ]
  },
  {
   "cell_type": "markdown",
   "metadata": {
    "id": "MzPjeHa6Pc1X"
   },
   "source": [
    "<div class=\"alert alert-info\">\n",
    "\n",
    "This tutorial is available as an IPython notebook at [malaya-speech/example/emotion](https://github.com/huseinzol05/malaya-speech/tree/master/example/emotion).\n",
    "    \n",
    "</div>"
   ]
  },
  {
   "cell_type": "markdown",
   "metadata": {
    "id": "wjZPddEgPc1Z"
   },
   "source": [
    "<div class=\"alert alert-info\">\n",
    "\n",
    "This module is language independent, so it save to use on different languages.\n",
    "    \n",
    "</div>"
   ]
  },
  {
   "cell_type": "markdown",
   "metadata": {
    "id": "4qzLb4CSPc1a"
   },
   "source": [
    "<div class=\"alert alert-warning\">\n",
    "\n",
    "This is an application of malaya-speech Pipeline, read more about malaya-speech Pipeline at [malaya-speech/example/pipeline](https://github.com/huseinzol05/malaya-speech/tree/master/example/pipeline).\n",
    "    \n",
    "</div>"
   ]
  },
  {
   "cell_type": "markdown",
   "metadata": {
    "id": "z23jVbmwPc1b"
   },
   "source": [
    "### Dataset\n",
    "\n",
    "Trained on Toronto emotional speech set (TESS) with augmented noises, https://tspace.library.utoronto.ca/handle/1807/24487"
   ]
  },
  {
   "cell_type": "code",
   "execution_count": null,
   "metadata": {},
   "outputs": [],
   "source": [
    "!pip install malaya_speech\n",
    "!pip install networkx\n",
    "!pip install subprocess\n",
    "!pip install graphviz\n"
   ]
  },
  {
   "cell_type": "code",
   "execution_count": null,
   "metadata": {},
   "outputs": [],
   "source": [
    "import subprocess\n",
    "import os\n",
    "import malaya_speech\n",
    "import numpy as np\n",
    "from malaya_speech import Pipeline\n",
    "\n",
    "os.environ[\"CUDA_VISIBLE_DEVICES\"] = \"-1\" # to stop tensorflow form loading cuda"
   ]
  },
  {
   "cell_type": "code",
   "execution_count": null,
   "metadata": {},
   "outputs": [],
   "source": [
    "command = \"ffmpeg -y -i ./Center.mp4 -ab 160k -ac 2 -ar 44100 -vn audio.wav\"\n",
    "subprocess.call(command)"
   ]
  },
  {
   "cell_type": "code",
   "execution_count": null,
   "metadata": {},
   "outputs": [],
   "source": [
    "command = \"ffmpeg -y -ss 174 -i ./audio.wav -t 00:00:9 trimed.wav\"\n",
    "subprocess.call(command)"
   ]
  },
  {
   "cell_type": "code",
   "execution_count": null,
   "metadata": {},
   "outputs": [],
   "source": [
    "y, sr = malaya_speech.load('./trimed.wav')\n",
    "len(y), sr"
   ]
  },
  {
   "cell_type": "code",
   "execution_count": null,
   "metadata": {},
   "outputs": [],
   "source": [
    "# just going to take 30 seconds\n",
    "#y = y[:sr* 30]"
   ]
  },
  {
   "cell_type": "markdown",
   "metadata": {
    "id": "sfBphuFYPc1l"
   },
   "source": [
    "### Supported emotions"
   ]
  },
  {
   "cell_type": "code",
   "execution_count": null,
   "metadata": {},
   "outputs": [],
   "source": [
    "malaya_speech.emotion.labels"
   ]
  },
  {
   "cell_type": "markdown",
   "metadata": {},
   "source": [
    "# Deep-Speaker Model"
   ]
  },
  {
   "cell_type": "code",
   "execution_count": null,
   "metadata": {},
   "outputs": [],
   "source": [
    "deep_speaker = malaya_speech.emotion.deep_model(model =\"deep-speaker\",validate = False)"
   ]
  },
  {
   "cell_type": "markdown",
   "metadata": {
    "id": "R4bJSv_8Pc1r"
   },
   "source": [
    "### How to classify emotions in an audio sample"
   ]
  },
  {
   "cell_type": "markdown",
   "metadata": {
    "id": "ct5-X4HWPc1r"
   },
   "source": [
    "So we are going to use VAD to help us. Instead we are going to classify as a whole sample, we chunk it into multiple small samples and classify it."
   ]
  },
  {
   "cell_type": "code",
   "execution_count": null,
   "metadata": {},
   "outputs": [],
   "source": [
    "vad = malaya_speech.vad.deep_model(model = 'vggvox-v2')"
   ]
  },
  {
   "cell_type": "code",
   "execution_count": null,
   "metadata": {},
   "outputs": [],
   "source": [
    "%%time\n",
    "frames = list(malaya_speech.utils.generator.frames(y, 30, sr))"
   ]
  },
  {
   "cell_type": "code",
   "execution_count": null,
   "metadata": {},
   "outputs": [],
   "source": [
    "p = Pipeline()\n",
    "pipeline = (\n",
    "    p.batching(5)\n",
    "    .foreach_map(vad.predict)\n",
    "    .flatten()\n",
    ")"
   ]
  },
  {
   "cell_type": "code",
   "execution_count": null,
   "metadata": {},
   "outputs": [],
   "source": [
    "%%time\n",
    "result = p.emit(frames)\n",
    "result.keys()"
   ]
  },
  {
   "cell_type": "code",
   "execution_count": null,
   "metadata": {},
   "outputs": [],
   "source": [
    "frames_vad = [(frame, result['flatten'][no]) for no, frame in enumerate(frames)]\n",
    "grouped_vad = malaya_speech.utils.group.group_frames(frames_vad)\n",
    "grouped_vad = malaya_speech.utils.group.group_frames_threshold(grouped_vad, threshold_to_stop = 0.3)"
   ]
  },
  {
   "cell_type": "code",
   "execution_count": null,
   "metadata": {},
   "outputs": [],
   "source": [
    "p_deep_speaker = Pipeline()\n",
    "pipeline = (\n",
    "    p_deep_speaker.foreach_map(deep_speaker)\n",
    "    .flatten()\n",
    ")"
   ]
  },
  {
   "cell_type": "code",
   "execution_count": null,
   "metadata": {},
   "outputs": [],
   "source": [
    "%%time\n",
    "samples_vad = [g[0] for g in grouped_vad]\n",
    "result_deep_speaker = p_deep_speaker.emit(samples_vad)\n",
    "result_deep_speaker.keys()"
   ]
  },
  {
   "cell_type": "code",
   "execution_count": null,
   "metadata": {},
   "outputs": [],
   "source": [
    "samples_vad_deep_speaker = [(frame, result_deep_speaker['flatten'][no]) for no, frame in enumerate(samples_vad)]\n",
    "samples_vad_deep_speaker"
   ]
  },
  {
   "cell_type": "markdown",
   "metadata": {
    "id": "pLAs9Cf-Pc13"
   },
   "source": [
    "### Reference\n",
    "\n",
    "1. Toronto emotional speech set (TESS), https://tspace.library.utoronto.ca/handle/1807/24487\n",
    "2. The Singaporean White Boy - The Shan and Rozz Show: EP7, https://www.youtube.com/watch?v=HylaY5e1awo&t=2s&ab_channel=Clicknetwork"
   ]
  }
 ],
 "metadata": {
  "interpreter": {
   "hash": "480499f06258b791006443228ff551f1b27f78110b95203a487409c6c8302d8f"
  },
  "kernelspec": {
   "display_name": "Python 3.7.12 ('py37')",
   "language": "python",
   "name": "python3"
  },
  "language_info": {
   "codemirror_mode": {
    "name": "ipython",
    "version": 3
   },
   "file_extension": ".py",
   "mimetype": "text/x-python",
   "name": "python",
   "nbconvert_exporter": "python",
   "pygments_lexer": "ipython3",
   "version": "3.7.12"
  },
  "orig_nbformat": 4
 },
 "nbformat": 4,
 "nbformat_minor": 2
}
