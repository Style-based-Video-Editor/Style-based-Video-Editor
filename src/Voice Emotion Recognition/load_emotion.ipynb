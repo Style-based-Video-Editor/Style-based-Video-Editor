{
  "cells": [
    {
      "cell_type": "markdown",
      "metadata": {
        "id": "PSGA8dmcPc1R"
      },
      "source": [
        "# Emotion Detection"
      ]
    },
    {
      "cell_type": "markdown",
      "metadata": {
        "id": "MzPjeHa6Pc1X"
      },
      "source": [
        "<div class=\"alert alert-info\">\n",
        "\n",
        "This tutorial is available as an IPython notebook at [malaya-speech/example/emotion](https://github.com/huseinzol05/malaya-speech/tree/master/example/emotion).\n",
        "    \n",
        "</div>"
      ]
    },
    {
      "cell_type": "markdown",
      "metadata": {
        "id": "wjZPddEgPc1Z"
      },
      "source": [
        "<div class=\"alert alert-info\">\n",
        "\n",
        "This module is language independent, so it save to use on different languages.\n",
        "    \n",
        "</div>"
      ]
    },
    {
      "cell_type": "markdown",
      "metadata": {
        "id": "4qzLb4CSPc1a"
      },
      "source": [
        "<div class=\"alert alert-warning\">\n",
        "\n",
        "This is an application of malaya-speech Pipeline, read more about malaya-speech Pipeline at [malaya-speech/example/pipeline](https://github.com/huseinzol05/malaya-speech/tree/master/example/pipeline).\n",
        "    \n",
        "</div>"
      ]
    },
    {
      "cell_type": "markdown",
      "metadata": {
        "id": "z23jVbmwPc1b"
      },
      "source": [
        "### Dataset\n",
        "\n",
        "Trained on Toronto emotional speech set (TESS) with augmented noises, https://tspace.library.utoronto.ca/handle/1807/24487"
      ]
    },
    {
      "cell_type": "code",
      "execution_count": null,
      "metadata": {
        "colab": {
          "base_uri": "https://localhost:8080/"
        },
        "id": "0v6vmcVdPeYn",
        "outputId": "302b6492-491c-446f-e449-e85bf7f15f24"
      },
      "outputs": [],
      "source": [
        "!pip install malaya_speech\n",
        "!pip install networkx\n",
        "!pip install subprocess\n",
        "!pip install graphviz\n"
      ]
    },
    {
      "cell_type": "code",
      "execution_count": null,
      "metadata": {},
      "outputs": [],
      "source": [
        "import subprocess\n",
        "import os\n",
        "import malaya_speech\n",
        "import numpy as np\n",
        "from malaya_speech import Pipeline\n",
        "import IPython.display as ipd\n",
        "\n",
        "os.environ[\"CUDA_VISIBLE_DEVICES\"] = \"-1\" # to stop tensorflow form loading cuda"
      ]
    },
    {
      "cell_type": "code",
      "execution_count": null,
      "metadata": {
        "colab": {
          "base_uri": "https://localhost:8080/"
        },
        "id": "fmjmkLWJQLdp",
        "outputId": "f5c26d36-7098-4512-f524-029579b786df"
      },
      "outputs": [],
      "source": [
        "command = \"ffmpeg -y -i ./Center.mp4 -ab 160k -ac 2 -ar 44100 -vn audio.wav\"\n",
        "subprocess.call(command)"
      ]
    },
    {
      "cell_type": "code",
      "execution_count": null,
      "metadata": {},
      "outputs": [],
      "source": [
        "command = \"ffmpeg -y -ss 174 -i ./audio.wav -t 00:00:9 trimed.wav\"\n",
        "subprocess.call(command)"
      ]
    },
    {
      "cell_type": "code",
      "execution_count": null,
      "metadata": {
        "colab": {
          "base_uri": "https://localhost:8080/"
        },
        "id": "bran1ltlPc1f",
        "outputId": "a71c6b0a-1e9f-43d5-95b1-441f0aeea213"
      },
      "outputs": [],
      "source": [
        "y, sr = malaya_speech.load('./trimed.wav')\n",
        "len(y), sr"
      ]
    },
    {
      "cell_type": "code",
      "execution_count": null,
      "metadata": {
        "id": "Fg5TT6UOPc1i"
      },
      "outputs": [],
      "source": [
        "# just going to take 30 seconds\n",
        "#y = y[:sr* 30]"
      ]
    },
    {
      "cell_type": "markdown",
      "metadata": {
        "id": "rHdtCIvRPc1k"
      },
      "source": [
        "This audio extracted from https://www.youtube.com/watch?v=HylaY5e1awo&t=2s"
      ]
    },
    {
      "cell_type": "markdown",
      "metadata": {
        "id": "sfBphuFYPc1l"
      },
      "source": [
        "### Supported emotions"
      ]
    },
    {
      "cell_type": "code",
      "execution_count": null,
      "metadata": {
        "colab": {
          "base_uri": "https://localhost:8080/"
        },
        "id": "UiawZD-4Pc1m",
        "outputId": "ec30659b-ef33-45b5-bf4b-862fb2756f10"
      },
      "outputs": [],
      "source": [
        "malaya_speech.emotion.labels"
      ]
    },
    {
      "cell_type": "markdown",
      "metadata": {
        "id": "mu3IZv-gPc1n"
      },
      "source": [
        "### List available deep model"
      ]
    },
    {
      "cell_type": "code",
      "execution_count": null,
      "metadata": {
        "colab": {
          "base_uri": "https://localhost:8080/",
          "height": 130
        },
        "id": "xKAiLXPJPc1n",
        "outputId": "43653367-50c9-4f08-8815-dffea238a807"
      },
      "outputs": [],
      "source": [
        "malaya_speech.emotion.available_model()"
      ]
    },
    {
      "cell_type": "markdown",
      "metadata": {},
      "source": [
        "# Note\n",
        " You will have an error loading the deep-speaker model so you have to download it manualy\n",
        " \n",
        "Download the model:\n",
        "\n",
        "* [deep-speaker](https://f000.backblazeb2.com/file/malaya-speech-model/emotion/deep-speaker/model.pb)\n",
        "  to:\n",
        "  `<home>\\Malaya-Speech\\emotion\\deep-speaker`\n",
        "  \n"
      ]
    },
    {
      "cell_type": "markdown",
      "metadata": {},
      "source": [
        "# Models"
      ]
    },
    {
      "cell_type": "code",
      "execution_count": null,
      "metadata": {},
      "outputs": [],
      "source": [
        "vggvox_v2 = malaya_speech.emotion.deep_model(model = 'vggvox-v2')\n",
        "deep_speaker = malaya_speech.emotion.deep_model(model =\"deep-speaker\",validate = False)\n",
        "quantized_vggvox_v2 = malaya_speech.emotion.deep_model(model = 'vggvox-v2', quantized = True)"
      ]
    },
    {
      "cell_type": "markdown",
      "metadata": {
        "id": "R4bJSv_8Pc1r"
      },
      "source": [
        "### How to classify emotions in an audio sample"
      ]
    },
    {
      "cell_type": "markdown",
      "metadata": {
        "id": "ct5-X4HWPc1r"
      },
      "source": [
        "So we are going to use VAD to help us. Instead we are going to classify as a whole sample, we chunk it into multiple small samples and classify it."
      ]
    },
    {
      "cell_type": "code",
      "execution_count": null,
      "metadata": {
        "colab": {
          "base_uri": "https://localhost:8080/"
        },
        "id": "ZO2GEfOoPc1r",
        "outputId": "ae98e78f-38c5-413b-de8b-caac617048aa"
      },
      "outputs": [],
      "source": [
        "vad = malaya_speech.vad.deep_model(model = 'vggvox-v2')"
      ]
    },
    {
      "cell_type": "code",
      "execution_count": null,
      "metadata": {
        "colab": {
          "base_uri": "https://localhost:8080/"
        },
        "id": "vjDrXsVsPc1s",
        "outputId": "67b252e7-6a57-45a4-9385-549afc505fe8"
      },
      "outputs": [],
      "source": [
        "%%time\n",
        "frames = list(malaya_speech.utils.generator.frames(y, 30, sr))"
      ]
    },
    {
      "cell_type": "code",
      "execution_count": null,
      "metadata": {
        "colab": {
          "base_uri": "https://localhost:8080/",
          "height": 364
        },
        "id": "IYyXjVp9Pc1t",
        "outputId": "d0b29a63-1ddc-44aa-d039-4302675e4b7d"
      },
      "outputs": [],
      "source": [
        "p = Pipeline()\n",
        "pipeline = (\n",
        "    p.batching(5)\n",
        "    .foreach_map(vad.predict)\n",
        "    .flatten()\n",
        ")"
      ]
    },
    {
      "cell_type": "code",
      "execution_count": null,
      "metadata": {
        "colab": {
          "base_uri": "https://localhost:8080/"
        },
        "id": "ZLBOJV3PPc1u",
        "outputId": "88afc72f-6898-4243-8dae-84f477f4bde8"
      },
      "outputs": [],
      "source": [
        "%%time\n",
        "result = p.emit(frames)\n",
        "result.keys()"
      ]
    },
    {
      "cell_type": "code",
      "execution_count": null,
      "metadata": {
        "id": "MiZR7l84Pc1v"
      },
      "outputs": [],
      "source": [
        "frames_vad = [(frame, result['flatten'][no]) for no, frame in enumerate(frames)]\n",
        "grouped_vad = malaya_speech.utils.group.group_frames(frames_vad)\n",
        "grouped_vad = malaya_speech.utils.group.group_frames_threshold(grouped_vad, threshold_to_stop = 0.3)"
      ]
    },
    {
      "cell_type": "code",
      "execution_count": null,
      "metadata": {},
      "outputs": [],
      "source": [
        "p_vggvox_v2 = Pipeline()\n",
        "pipeline = (\n",
        "    p_vggvox_v2.foreach_map(vggvox_v2)\n",
        "    .flatten()\n",
        ")"
      ]
    },
    {
      "cell_type": "code",
      "execution_count": null,
      "metadata": {
        "colab": {
          "base_uri": "https://localhost:8080/",
          "height": 268
        },
        "id": "JWzezvK8Pc1w",
        "outputId": "3cecfefa-a44c-498a-83b4-aaf738e2143b"
      },
      "outputs": [],
      "source": [
        "p_deep_speaker = Pipeline()\n",
        "pipeline = (\n",
        "    p_deep_speaker.foreach_map(deep_speaker)\n",
        "    .flatten()\n",
        ")"
      ]
    },
    {
      "cell_type": "code",
      "execution_count": null,
      "metadata": {},
      "outputs": [],
      "source": [
        "p_quantized_vggvox_v2 = Pipeline()\n",
        "pipeline = (\n",
        "    p_quantized_vggvox_v2.foreach_map(quantized_vggvox_v2)\n",
        "    .flatten()\n",
        ")"
      ]
    },
    {
      "cell_type": "code",
      "execution_count": null,
      "metadata": {},
      "outputs": [],
      "source": [
        "%%time\n",
        "samples_vad = [g[0] for g in grouped_vad]\n",
        "result_vggvox_v2 = p_vggvox_v2.emit(samples_vad)\n",
        "result_vggvox_v2.keys()"
      ]
    },
    {
      "cell_type": "code",
      "execution_count": null,
      "metadata": {
        "colab": {
          "base_uri": "https://localhost:8080/"
        },
        "id": "7HCaMSc4Pc1y",
        "outputId": "a01a5d65-1c18-40ed-aa1a-ddd56532a230"
      },
      "outputs": [],
      "source": [
        "%%time\n",
        "samples_vad = [g[0] for g in grouped_vad]\n",
        "result_deep_speaker = p_deep_speaker.emit(samples_vad)\n",
        "result_deep_speaker.keys()"
      ]
    },
    {
      "cell_type": "code",
      "execution_count": null,
      "metadata": {},
      "outputs": [],
      "source": [
        "%%time\n",
        "samples_vad = [g[0] for g in grouped_vad]\n",
        "result_quantized_vggvox_v2 = p_quantized_vggvox_v2.emit(samples_vad)\n",
        "result_quantized_vggvox_v2.keys()"
      ]
    },
    {
      "cell_type": "code",
      "execution_count": null,
      "metadata": {},
      "outputs": [],
      "source": [
        "samples_vad_vggvox_v2 = [(frame, result_vggvox_v2['flatten'][no]) for no, frame in enumerate(samples_vad)]\n",
        "samples_vad_vggvox_v2"
      ]
    },
    {
      "cell_type": "code",
      "execution_count": null,
      "metadata": {
        "colab": {
          "base_uri": "https://localhost:8080/"
        },
        "id": "ecUotKhmPc1y",
        "outputId": "6e552f72-cb7f-46f2-bf05-d47bb3237816"
      },
      "outputs": [],
      "source": [
        "samples_vad_deep_speaker = [(frame, result_deep_speaker['flatten'][no]) for no, frame in enumerate(samples_vad)]\n",
        "samples_vad_deep_speaker"
      ]
    },
    {
      "cell_type": "code",
      "execution_count": null,
      "metadata": {},
      "outputs": [],
      "source": [
        "samples_vad_quantized_vggvox_v2 = [(frame, result_quantized_vggvox_v2['flatten'][no]) for no, frame in enumerate(samples_vad)]\n",
        "samples_vad_quantized_vggvox_v2"
      ]
    },
    {
      "cell_type": "markdown",
      "metadata": {
        "id": "pLAs9Cf-Pc13"
      },
      "source": [
        "### Reference\n",
        "\n",
        "1. Toronto emotional speech set (TESS), https://tspace.library.utoronto.ca/handle/1807/24487\n",
        "2. The Singaporean White Boy - The Shan and Rozz Show: EP7, https://www.youtube.com/watch?v=HylaY5e1awo&t=2s&ab_channel=Clicknetwork"
      ]
    },
    {
      "cell_type": "markdown",
      "metadata": {},
      "source": []
    }
  ],
  "metadata": {
    "colab": {
      "name": "load-emotion.ipynb",
      "provenance": []
    },
    "kernelspec": {
      "display_name": "Python 3",
      "language": "python",
      "name": "python3"
    },
    "language_info": {
      "codemirror_mode": {
        "name": "ipython",
        "version": 3
      },
      "file_extension": ".py",
      "mimetype": "text/x-python",
      "name": "python",
      "nbconvert_exporter": "python",
      "pygments_lexer": "ipython3",
      "version": "3.7.12"
    }
  },
  "nbformat": 4,
  "nbformat_minor": 0
}
