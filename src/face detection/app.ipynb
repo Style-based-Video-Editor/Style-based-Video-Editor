{
 "cells": [
  {
   "cell_type": "markdown",
   "metadata": {},
   "source": [
    "## You can download the requiered files form:\n",
    "* [shape_predictor_68_face_landmarks](https://github.com/italojs/facial-landmarks-recognition/blob/master/shape_predictor_68_face_landmarks.dat \"from github\")\n",
    "* [mmod_human_face_detector](https://github.com/davisking/dlib-models/blob/master/mmod_human_face_detector.dat.bz2 \"from github\")"
   ]
  },
  {
   "cell_type": "code",
   "execution_count": 3,
   "metadata": {},
   "outputs": [],
   "source": [
    "import cv2\n",
    "import dlib"
   ]
  },
  {
   "cell_type": "code",
   "execution_count": 4,
   "metadata": {},
   "outputs": [],
   "source": [
    "def faceLandmarks(im,cnn = False):\n",
    "\n",
    "    PREDICTOR_PATH = r\"../../models/shape_predictor_68_face_landmarks.dat\"\n",
    "    \n",
    "    # Create object to detect the face\n",
    "    Detector =  dlib.get_frontal_face_detector() if not cnn else dlib.cnn_face_detection_model_v1(r\"../../models/mmod_human_face_detector.dat\")\n",
    "\n",
    "    # Create object to detect the facial landmarks\n",
    "    landmarkDetector = dlib.shape_predictor(PREDICTOR_PATH)\n",
    "\n",
    "    # Detect faces\n",
    "    faceRects = Detector(im, 1)\n",
    "\n",
    "    # Initialize landmarksAll array\n",
    "    landmarksAll = []\n",
    "\n",
    "    # For each face detected in the image, this chunk of code creates a ROI around the face and pass it as an argument to the \n",
    "    # facial landmark detector and append the result to the array landmarks \n",
    "    for i in range(0, len(faceRects)):\n",
    "        newRect = dlib.rectangle(int(faceRects[i].left()),\n",
    "                            int(faceRects[i].top()),\n",
    "                            int(faceRects[i].right()),\n",
    "                            int(faceRects[i].bottom()))\n",
    "        landmarks = landmarkDetector(im, newRect)\n",
    "        landmarksAll.append(landmarks)\n",
    "\n",
    "    return landmarksAll, faceRects\n",
    "  \n",
    "def convert_and_trim_bb(image, rect):\n",
    "\t# extract the starting and ending (x, y)-coordinates of the\n",
    "\t# bounding box\n",
    "\tstartX = rect.left()\n",
    "\tstartY = rect.top()\n",
    "\tendX = rect.right()\n",
    "\tendY = rect.bottom()\n",
    "\t# ensure the bounding box coordinates fall within the spatial\n",
    "\t# dimensions of the image\n",
    "\tstartX = max(0, startX)\n",
    "\tstartY = max(0, startY)\n",
    "\tendX = min(endX, image.shape[1])\n",
    "\tendY = min(endY, image.shape[0])\n",
    "\t# compute the width and height of the bounding box\n",
    "\tw = endX - startX\n",
    "\th = endY - startY\n",
    "\t# return our bounding box coordinates\n",
    "\treturn (startX, startY, w, h)\n",
    "\n",
    "def renderFacialLandmarks(im, landmarks,faceRectangles):\n",
    "    \n",
    "    for landmark in landmarks:\n",
    "      points = [(p.x, p.y) for p in landmark.parts()]\n",
    "\n",
    "      for p in points:\n",
    "          cv2.circle(im, (int(p[0]),int(p[1])), 2, (255,0,0),-1)\n",
    "          \n",
    "    boxes = [convert_and_trim_bb(image, r) for r in faceRectangles]\n",
    "    \n",
    "    for (x, y, w, h) in boxes:\n",
    "      cv2.rectangle(im, (x, y), (x + w, y + h), (0, 255, 0), 2)\n",
    "    return im\n"
   ]
  },
  {
   "cell_type": "code",
   "execution_count": 9,
   "metadata": {},
   "outputs": [
    {
     "data": {
      "text/plain": [
       "-1"
      ]
     },
     "execution_count": 9,
     "metadata": {},
     "output_type": "execute_result"
    }
   ],
   "source": [
    "image = cv2.imread(\"../../images/ggMany.jpg\")\n",
    "image = cv2.resize(image, (600,600))\n",
    "rgb = cv2.cvtColor(image, cv2.COLOR_BGR2RGB)\n",
    "landmarksAll, faceRects = faceLandmarks(rgb)\n",
    "im  = renderFacialLandmarks(image,landmarksAll,faceRects)\n",
    "cv2.imshow(\"Output\", im)\n",
    "cv2.waitKey(0)"
   ]
  },
  {
   "cell_type": "code",
   "execution_count": null,
   "metadata": {},
   "outputs": [],
   "source": []
  }
 ],
 "metadata": {
  "interpreter": {
   "hash": "095a117e2b3be4d11932d9274776c6bd78aa21991e036caadb1311f88b6e6930"
  },
  "kernelspec": {
   "display_name": "Python 3.7.11 64-bit ('cp37': conda)",
   "language": "python",
   "name": "python3"
  },
  "language_info": {
   "codemirror_mode": {
    "name": "ipython",
    "version": 3
   },
   "file_extension": ".py",
   "mimetype": "text/x-python",
   "name": "python",
   "nbconvert_exporter": "python",
   "pygments_lexer": "ipython3",
   "version": "3.7.11"
  },
  "orig_nbformat": 4
 },
 "nbformat": 4,
 "nbformat_minor": 2
}
