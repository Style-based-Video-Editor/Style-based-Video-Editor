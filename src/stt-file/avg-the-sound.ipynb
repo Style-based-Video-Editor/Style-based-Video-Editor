{
 "cells": [
  {
   "cell_type": "code",
   "execution_count": null,
   "metadata": {},
   "outputs": [],
   "source": [
    "import matplotlib.pyplot as plt\n",
    "import numpy as np\n",
    "import wave\n",
    "import sys\n",
    "\n",
    "spf = wave.open('tarbosh.wav','r')\n",
    "\n",
    "#Extract Raw Audio from Wav File\n",
    "sig = spf.readframes(-1)\n",
    "sig = np.fromstring(sig, 'Int16')\n",
    "%matplotlib qt\n",
    "plt.figure(1)\n",
    "plt.title('Signal Wave...')\n",
    "plt.plot(sig)"
   ]
  },
  {
   "cell_type": "code",
   "execution_count": null,
   "metadata": {},
   "outputs": [],
   "source": [
    "from scipy import signal\n",
    "import numpy as np\n",
    "import wave, struct, math, random"
   ]
  },
  {
   "cell_type": "code",
   "execution_count": null,
   "metadata": {},
   "outputs": [],
   "source": [
    "sos1A = signal.butter(10, 600, 'lp', fs=spf.getframerate(), output='sos')"
   ]
  },
  {
   "cell_type": "code",
   "execution_count": null,
   "metadata": {},
   "outputs": [],
   "source": [
    "sos2A = signal.butter(10, 50, 'hp', fs=spf.getframerate(), output='sos')"
   ]
  },
  {
   "cell_type": "code",
   "execution_count": null,
   "metadata": {},
   "outputs": [],
   "source": [
    "fil1 = signal.sosfilt(sos1A, sig)"
   ]
  },
  {
   "cell_type": "code",
   "execution_count": null,
   "metadata": {},
   "outputs": [],
   "source": [
    "filteredA = signal.sosfilt(sos2A, fil1)"
   ]
  },
  {
   "cell_type": "code",
   "execution_count": null,
   "metadata": {},
   "outputs": [],
   "source": [
    "plt.figure(1)\n",
    "plt.title('Signal Wave Alpha...')\n",
    "plt.plot(filteredA)"
   ]
  },
  {
   "cell_type": "code",
   "execution_count": null,
   "metadata": {},
   "outputs": [],
   "source": [
    "sampleRate = spf.getframerate() # hertz\n",
    "#duration = 2 # seconds\n",
    "frequency = 440.0 # hertz\n",
    "DH=filteredA\n",
    "obj = wave.open('tartar.wav','w')\n",
    "obj.setnchannels(spf.getnchannels()) # mono\n",
    "obj.setsampwidth(spf.getsampwidth())\n",
    "obj.setframerate(sampleRate)\n",
    "for i in DH:\n",
    "    #value = random.randint(-32767, 32767)\n",
    "    #print(i)\n",
    "    data = struct.pack('<h', int(i))\n",
    "    obj.writeframesraw( data )\n",
    "obj.close()"
   ]
  },
  {
   "cell_type": "code",
   "execution_count": null,
   "metadata": {},
   "outputs": [],
   "source": [
    "filteredA.max()"
   ]
  },
  {
   "cell_type": "code",
   "execution_count": null,
   "metadata": {},
   "outputs": [],
   "source": [
    "ampSample3 = abs(filteredA)"
   ]
  },
  {
   "cell_type": "code",
   "execution_count": null,
   "metadata": {},
   "outputs": [],
   "source": [
    "blockAmplitudeMean = sum(np.absolute(filteredA))/len(filteredA)"
   ]
  },
  {
   "cell_type": "code",
   "execution_count": null,
   "metadata": {},
   "outputs": [],
   "source": [
    "blockAmplitudeMean"
   ]
  },
  {
   "cell_type": "code",
   "execution_count": null,
   "metadata": {},
   "outputs": [],
   "source": [
    "blockLinearRms= np.sqrt(np.mean(filteredA**2)) # Linear value between 0 -> 1\n",
    "blockLogRms = 20 * math.log10(blockLinearRms) # Decibel (dB value) between 0 dB -> -inf dB"
   ]
  },
  {
   "cell_type": "code",
   "execution_count": null,
   "metadata": {},
   "outputs": [],
   "source": [
    "blockLogRms"
   ]
  }
 ],
 "metadata": {
  "language_info": {
   "name": "python"
  },
  "orig_nbformat": 4
 },
 "nbformat": 4,
 "nbformat_minor": 2
}
