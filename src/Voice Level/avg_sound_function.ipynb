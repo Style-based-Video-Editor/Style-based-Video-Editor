{
 "cells": [
  {
   "cell_type": "code",
   "execution_count": null,
   "metadata": {},
   "outputs": [],
   "source": [
    "import wave, struct, math\n",
    "import matplotlib.pyplot as plt\n",
    "import numpy as np  \n",
    "from scipy import signal"
   ]
  },
  {
   "cell_type": "code",
   "execution_count": null,
   "metadata": {},
   "outputs": [],
   "source": [
    "def avg_sound(filepath):\n",
    "  spf = wave.open(filepath,'r')\n",
    "  sig = spf.readframes(-1)\n",
    "  sig = np.frombuffer(sig, np.int16)\n",
    "  sos1A = signal.butter(10, 600, 'lp', fs=spf.getframerate(), output='sos')\n",
    "  sos2A = signal.butter(10, 50, 'hp', fs=spf.getframerate(), output='sos')\n",
    "  fil1 = signal.sosfilt(sos1A, sig)\n",
    "  filteredA = signal.sosfilt(sos2A, fil1)\n",
    "  filteredA.max()\n",
    "  blockAmplitudeMean = sum(np.absolute(filteredA))/len(filteredA)\n",
    "  blockAmplitudeMean\n",
    "  blockLinearRms= np.sqrt(np.mean(filteredA**2)) # Linear value between 0 -> 1\n",
    "  blockLogRms = 20 * math.log10(blockLinearRms) # Decibel (dB value) between 0 dB -> -inf dB\n",
    "  blockLogRms = round(blockLogRms,2)\n",
    "  return blockLogRms"
   ]
  }
 ],
 "metadata": {
  "language_info": {
   "name": "python"
  },
  "orig_nbformat": 4
 },
 "nbformat": 4,
 "nbformat_minor": 2
}
