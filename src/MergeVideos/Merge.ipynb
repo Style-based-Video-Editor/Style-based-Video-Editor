{
 "cells": [
  {
   "cell_type": "code",
   "execution_count": null,
   "metadata": {},
   "outputs": [],
   "source": [
    "import ffmpeg\n",
    "import glob\n",
    "import os\n",
    "from moviepy.editor import *"
   ]
  },
  {
   "cell_type": "code",
   "execution_count": null,
   "metadata": {},
   "outputs": [],
   "source": [
    "def concatenate():\n",
    "\tstringa = \"ffmpeg -i \\\"concat:\"\n",
    "\telenco_video = glob.glob(\"./Data/*.mp4\")\n",
    "\telenco_file_temp = []\n",
    "\tfor f in elenco_video:\n",
    "\t\tfile = \"temp\" + str(elenco_video.index(f) + 1) + \".ts\"\n",
    "\t\tos.system(\"ffmpeg -i \" + f + \" -c copy -bsf:v h264_mp4toannexb -f mpegts \" + file)\n",
    "\t\telenco_file_temp.append(file)\n",
    "\tprint(elenco_file_temp)\n",
    "\tfor f in elenco_file_temp:\n",
    "\t\tstringa += f\n",
    "\t\tif elenco_file_temp.index(f) != len(elenco_file_temp)-1:\n",
    "\t\t\tstringa += \"|\"\n",
    "\t\telse:\n",
    "\t\t\tstringa += \"\\\" -c copy  -bsf:a aac_adtstoasc output.mp4\"\n",
    "\tprint(stringa)\n",
    "\tos.system(stringa)\n",
    "\n",
    "def final_video():\n",
    "\tclip = VideoFileClip(\"output.mp4\")\n",
    "\tclip = clip.rotate(-90)\n",
    "\tclip.ipython_display(width = 480)\n",
    "\tclip.ipython_display()\n",
    "\tos.system(\"rename.Bat\")\n",
    "concatenate()\n",
    "final_video()"
   ]
  },
  {
   "cell_type": "code",
   "execution_count": null,
   "metadata": {},
   "outputs": [],
   "source": []
  }
 ],
 "metadata": {
  "interpreter": {
   "hash": "a2b38e59c59fb6e5a47b73262d025a94199a3af81afb43eafe4bf51437c2f1e1"
  },
  "kernelspec": {
   "display_name": "Python 3.8.12 64-bit ('sp': conda)",
   "language": "python",
   "name": "python3"
  },
  "language_info": {
   "codemirror_mode": {
    "name": "ipython",
    "version": 3
   },
   "file_extension": ".py",
   "mimetype": "text/x-python",
   "name": "python",
   "nbconvert_exporter": "python",
   "pygments_lexer": "ipython3",
   "version": "3.8.12"
  },
  "orig_nbformat": 4
 },
 "nbformat": 4,
 "nbformat_minor": 2
}
