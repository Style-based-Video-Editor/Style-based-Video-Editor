{
 "cells": [
  {
   "cell_type": "markdown",
   "metadata": {},
   "source": [
    "# Install Libraries:"
   ]
  },
  {
   "cell_type": "code",
   "execution_count": null,
   "metadata": {},
   "outputs": [],
   "source": [
    "!pip install opencv-python\n",
    "!pip install scenedetect\n"
   ]
  },
  {
   "cell_type": "markdown",
   "metadata": {},
   "source": [
    "# Splitting the video"
   ]
  },
  {
   "cell_type": "code",
   "execution_count": null,
   "metadata": {},
   "outputs": [],
   "source": [
    "#detect and split the video and but the result videos in the result folder\n",
    "!scenedetect -i ../videos/video.mp4 detect-content split-video -o ../result"
   ]
  },
  {
   "cell_type": "markdown",
   "metadata": {},
   "source": [
    "# Get the times of each scene"
   ]
  },
  {
   "cell_type": "code",
   "execution_count": 1,
   "metadata": {},
   "outputs": [],
   "source": [
    "# function to get the times of each scene\n",
    "from scenedetect import VideoManager\n",
    "from scenedetect import SceneManager\n",
    "\n",
    "# For content-aware scene detection:\n",
    "from scenedetect.detectors import ContentDetector\n",
    "\n",
    "def find_scenes(video_path, threshold=30.0):\n",
    "    # Create our video & scene managers, then add the detector.\n",
    "    video_manager = VideoManager([video_path])\n",
    "    scene_manager = SceneManager()\n",
    "    scene_manager.add_detector(ContentDetector(threshold=threshold))\n",
    "\n",
    "    # Improve processing speed by downscaling before processing.\n",
    "    video_manager.set_downscale_factor()\n",
    "\n",
    "    # Start the video manager and perform the scene detection.\n",
    "    video_manager.start()\n",
    "    scene_manager.detect_scenes(frame_source=video_manager)\n",
    "\n",
    "    # Each returned scene is a tuple of the (start, end) timecode.\n",
    "    return scene_manager.get_scene_list()"
   ]
  },
  {
   "cell_type": "code",
   "execution_count": null,
   "metadata": {},
   "outputs": [],
   "source": [
    "scenes = find_scenes(\"../Videos/video.mp4\")\n",
    "scenes\n"
   ]
  },
  {
   "cell_type": "markdown",
   "metadata": {},
   "source": [
    "# Return image description from imagga"
   ]
  },
  {
   "cell_type": "code",
   "execution_count": 3,
   "metadata": {},
   "outputs": [
    {
     "name": "stdout",
     "output_type": "stream",
     "text": [
      "Defaulting to user installation because normal site-packages is not writeable\n",
      "Collecting requests\n",
      "  Downloading requests-2.26.0-py2.py3-none-any.whl (62 kB)\n",
      "Collecting charset-normalizer~=2.0.0\n",
      "  Downloading charset_normalizer-2.0.7-py3-none-any.whl (38 kB)\n",
      "Collecting urllib3<1.27,>=1.21.1\n",
      "  Downloading urllib3-1.26.7-py2.py3-none-any.whl (138 kB)\n",
      "Collecting certifi>=2017.4.17\n",
      "  Downloading certifi-2021.10.8-py2.py3-none-any.whl (149 kB)\n",
      "Requirement already satisfied: idna<4,>=2.5 in c:\\program files\\python39\\lib\\site-packages (from requests) (3.1)\n",
      "Installing collected packages: urllib3, charset-normalizer, certifi, requests\n",
      "Successfully installed certifi-2021.10.8 charset-normalizer-2.0.7 requests-2.26.0 urllib3-1.26.7\n"
     ]
    },
    {
     "name": "stderr",
     "output_type": "stream",
     "text": [
      "  WARNING: The script normalizer.exe is installed in 'C:\\Users\\Munzer\\AppData\\Roaming\\Python\\Python39\\Scripts' which is not on PATH.\n",
      "  Consider adding this directory to PATH or, if you prefer to suppress this warning, use --no-warn-script-location.\n",
      "WARNING: You are using pip version 21.0.1; however, version 21.3.1 is available.\n",
      "You should consider upgrading via the 'c:\\program files\\python39\\python.exe -m pip install --upgrade pip' command.\n"
     ]
    }
   ],
   "source": [
    "! pip install requests"
   ]
  },
  {
   "cell_type": "code",
   "execution_count": null,
   "metadata": {},
   "outputs": [],
   "source": [
    "#Returnes the image tag from imagga\n",
    "\n",
    "import requests\n",
    "\n",
    "api_key = 'acc_6143e9674b1c218'\n",
    "api_secret = '91dcb4c50d92be863573c465d9136506'\n",
    "image_path = 'D:\\\\College\\\\2021-1\\\\Senior\\\\Style-based-Video-Editor\\\\images\\\\DSC_0086.JPG'\n",
    "\n",
    "response = requests.post(\n",
    "    'https://api.imagga.com/v2/categories/personal_photos',\n",
    "    auth=(api_key, api_secret),\n",
    "    files={'image': open(image_path, 'rb')})\n",
    "print(response.json())"
   ]
  },
  {
   "cell_type": "code",
   "execution_count": 10,
   "metadata": {},
   "outputs": [
    {
     "ename": "ModuleNotFoundError",
     "evalue": "No module named 'create_index'",
     "output_type": "error",
     "traceback": [
      "\u001b[1;31m---------------------------------------------------------------------------\u001b[0m",
      "\u001b[1;31mModuleNotFoundError\u001b[0m                       Traceback (most recent call last)",
      "\u001b[1;32m~\\AppData\\Local\\Temp/ipykernel_14156/3998064309.py\u001b[0m in \u001b[0;36m<module>\u001b[1;34m\u001b[0m\n\u001b[0;32m      6\u001b[0m \u001b[1;33m\u001b[0m\u001b[0m\n\u001b[0;32m      7\u001b[0m \u001b[1;33m\u001b[0m\u001b[0m\n\u001b[1;32m----> 8\u001b[1;33m \u001b[1;32mfrom\u001b[0m \u001b[0mcreate_index\u001b[0m \u001b[1;32mimport\u001b[0m \u001b[0mAPI_KEY\u001b[0m\u001b[1;33m,\u001b[0m \u001b[0mAPI_SECRET\u001b[0m\u001b[1;33m,\u001b[0m \u001b[0mindex_endpoint\u001b[0m\u001b[1;33m\u001b[0m\u001b[1;33m\u001b[0m\u001b[0m\n\u001b[0m\u001b[0;32m      9\u001b[0m \u001b[1;33m\u001b[0m\u001b[0m\n\u001b[0;32m     10\u001b[0m \u001b[0mDISTANCE_THRESHOLD\u001b[0m \u001b[1;33m=\u001b[0m \u001b[1;36m1.4\u001b[0m\u001b[1;33m\u001b[0m\u001b[1;33m\u001b[0m\u001b[0m\n",
      "\u001b[1;31mModuleNotFoundError\u001b[0m: No module named 'create_index'"
     ]
    }
   ],
   "source": [
    "#Not Working\n",
    "\n",
    "import os\n",
    "import json\n",
    "import requests\n",
    "import argparse\n",
    "\n",
    "\n",
    "\n",
    "from create_index import API_KEY, API_SECRET, index_endpoint\n",
    "\n",
    "DISTANCE_THRESHOLD = 1.4\n",
    "\n",
    "\n",
    "def search_index(image_path):\n",
    "    if not os.path.exists(image_path):\n",
    "        print('Path is invalid:', image_path)\n",
    "        return None\n",
    "\n",
    "    search_result = None\n",
    "    with open(image_path, 'rb') as image_file:\n",
    "        response = requests.post(\n",
    "            index_endpoint,\n",
    "            params={'distance': DISTANCE_THRESHOLD},\n",
    "            files={'image': image_file},\n",
    "            auth=(API_KEY, API_SECRET))\n",
    "\n",
    "    try:\n",
    "        search_result = response.json()['result']\n",
    "    except Exception as e:\n",
    "        print('Exception occured during reading the search response')\n",
    "        print(e, response.content, response.status_code)\n",
    "\n",
    "    return search_result\n",
    "\n",
    "\n",
    "def main():\n",
    "    #parser = argparse.ArgumentParser()\n",
    "    #parser.add_argument('image_path', help='Image to search for')\n",
    "\n",
    "    #args = parser.parse_args()\n",
    "\n",
    "    result = search_index(\"D:\\\\College\\\\2021-1\\\\Senior\\\\Style-based-Video-Editor\\\\images\\\\testimages\\\\DSC_0086.JPG\")\n",
    "    if not result:\n",
    "        print('No result obtained')\n",
    "\n",
    "    print('Search result:')\n",
    "    print(json.dumps(result, indent=4))\n",
    "\n",
    "\n",
    "if __name__ == '__main__':\n",
    "    main()\n",
    "\n",
    "\n"
   ]
  },
  {
   "cell_type": "code",
   "execution_count": 5,
   "metadata": {},
   "outputs": [
    {
     "data": {
      "text/plain": [
       "{'result': {'faces': [{'attributes': [],\n",
       "    'confidence': 99.9869842529297,\n",
       "    'coordinates': {'height': 508,\n",
       "     'width': 508,\n",
       "     'xmax': 1141,\n",
       "     'xmin': 633,\n",
       "     'ymax': 1961,\n",
       "     'ymin': 1453},\n",
       "    'face_id': '',\n",
       "    'landmarks': []},\n",
       "   {'attributes': [],\n",
       "    'confidence': 99.9829177856445,\n",
       "    'coordinates': {'height': 440,\n",
       "     'width': 440,\n",
       "     'xmax': 4398,\n",
       "     'xmin': 3958,\n",
       "     'ymax': 1933,\n",
       "     'ymin': 1493},\n",
       "    'face_id': '',\n",
       "    'landmarks': []},\n",
       "   {'attributes': [],\n",
       "    'confidence': 99.9795150756836,\n",
       "    'coordinates': {'height': 463,\n",
       "     'width': 463,\n",
       "     'xmax': 3496,\n",
       "     'xmin': 3033,\n",
       "     'ymax': 1982,\n",
       "     'ymin': 1519},\n",
       "    'face_id': '',\n",
       "    'landmarks': []},\n",
       "   {'attributes': [],\n",
       "    'confidence': 99.9623641967773,\n",
       "    'coordinates': {'height': 460,\n",
       "     'width': 460,\n",
       "     'xmax': 2670,\n",
       "     'xmin': 2210,\n",
       "     'ymax': 2078,\n",
       "     'ymin': 1618},\n",
       "    'face_id': '',\n",
       "    'landmarks': []}]},\n",
       " 'status': {'text': '', 'type': 'success'}}"
      ]
     },
     "execution_count": 5,
     "metadata": {},
     "output_type": "execute_result"
    }
   ],
   "source": [
    "#Face Detection Working\n",
    "\n",
    "import os\n",
    "import requests\n",
    "import time\n",
    "\n",
    "API_KEY = 'acc_6143e9674b1c218'\n",
    "API_SECRET = '91dcb4c50d92be863573c465d9136506'\n",
    "\n",
    "API_ENDPOINT = 'https://api.imagga.com/v2'\n",
    "CATEGORIZER = 'detections'  # The default general purpose categorizer\n",
    "INDEX_NAME = 'similarity_tutorial_v1'\n",
    "\n",
    "categorizer_endpoint = '%s/faces/%s' % (API_ENDPOINT, CATEGORIZER)\n",
    "index_endpoint = ('%s/similar-images/categories/%s/%s' %\n",
    "                  (API_ENDPOINT, CATEGORIZER, INDEX_NAME))\n",
    "tickets_endpoint = '%s/tickets' % API_ENDPOINT\n",
    "\n",
    "image_path=\"D:\\\\College\\\\2021-1\\\\Senior\\\\Style-based-Video-Editor\\\\images\\\\testimages\\\\DSC_0086.JPG\"\n",
    "\n",
    "response = requests.post(\n",
    "        categorizer_endpoint,\n",
    "        auth=(API_KEY, API_SECRET),\n",
    "        files={'image': open(image_path, 'rb')},\n",
    "        params={'image_url': 'friends',})\n",
    "\n",
    "status = response.json()['status']\n",
    "\n",
    "response.json()"
   ]
  },
  {
   "cell_type": "code",
   "execution_count": 7,
   "metadata": {},
   "outputs": [
    {
     "ename": "FileNotFoundError",
     "evalue": "[WinError 3] The system cannot find the path specified: 'C:\\\\Users\\\\LENOVO\\\\Desktop\\\\senior\\\\imagga_similarity_api_usage_code\\\\index_creation_set'",
     "output_type": "error",
     "traceback": [
      "\u001b[1;31m---------------------------------------------------------------------------\u001b[0m",
      "\u001b[1;31mFileNotFoundError\u001b[0m                         Traceback (most recent call last)",
      "\u001b[1;32m~\\AppData\\Local\\Temp/ipykernel_14156/969479338.py\u001b[0m in \u001b[0;36m<module>\u001b[1;34m\u001b[0m\n\u001b[0;32m    114\u001b[0m \u001b[1;33m\u001b[0m\u001b[0m\n\u001b[0;32m    115\u001b[0m \u001b[1;32mif\u001b[0m \u001b[0m__name__\u001b[0m \u001b[1;33m==\u001b[0m \u001b[1;34m'__main__'\u001b[0m\u001b[1;33m:\u001b[0m\u001b[1;33m\u001b[0m\u001b[1;33m\u001b[0m\u001b[0m\n\u001b[1;32m--> 116\u001b[1;33m     \u001b[0mmain\u001b[0m\u001b[1;33m(\u001b[0m\u001b[1;33m)\u001b[0m\u001b[1;33m\u001b[0m\u001b[1;33m\u001b[0m\u001b[0m\n\u001b[0m\u001b[0;32m    117\u001b[0m \u001b[1;33m\u001b[0m\u001b[0m\n",
      "\u001b[1;32m~\\AppData\\Local\\Temp/ipykernel_14156/969479338.py\u001b[0m in \u001b[0;36mmain\u001b[1;34m()\u001b[0m\n\u001b[0;32m     76\u001b[0m     \u001b[0mfailed_feeds\u001b[0m \u001b[1;33m=\u001b[0m \u001b[1;36m0\u001b[0m\u001b[1;33m\u001b[0m\u001b[1;33m\u001b[0m\u001b[0m\n\u001b[0;32m     77\u001b[0m \u001b[1;33m\u001b[0m\u001b[0m\n\u001b[1;32m---> 78\u001b[1;33m     \u001b[1;32mfor\u001b[0m \u001b[0mimage\u001b[0m \u001b[1;32min\u001b[0m \u001b[0mos\u001b[0m\u001b[1;33m.\u001b[0m\u001b[0mscandir\u001b[0m\u001b[1;33m(\u001b[0m\u001b[1;34m'C:\\\\Users\\\\LENOVO\\\\Desktop\\\\senior\\\\imagga_similarity_api_usage_code\\\\index_creation_set'\u001b[0m\u001b[1;33m)\u001b[0m\u001b[1;33m:\u001b[0m\u001b[1;33m\u001b[0m\u001b[1;33m\u001b[0m\u001b[0m\n\u001b[0m\u001b[0;32m     79\u001b[0m         \u001b[0mprint\u001b[0m\u001b[1;33m(\u001b[0m\u001b[1;34m'At image %s: %s'\u001b[0m \u001b[1;33m%\u001b[0m \u001b[1;33m(\u001b[0m\u001b[0msuccessful_feeds\u001b[0m\u001b[1;33m,\u001b[0m \u001b[0mimage\u001b[0m\u001b[1;33m.\u001b[0m\u001b[0mpath\u001b[0m\u001b[1;33m)\u001b[0m\u001b[1;33m)\u001b[0m\u001b[1;33m\u001b[0m\u001b[1;33m\u001b[0m\u001b[0m\n\u001b[0;32m     80\u001b[0m \u001b[1;33m\u001b[0m\u001b[0m\n",
      "\u001b[1;31mFileNotFoundError\u001b[0m: [WinError 3] The system cannot find the path specified: 'C:\\\\Users\\\\LENOVO\\\\Desktop\\\\senior\\\\imagga_similarity_api_usage_code\\\\index_creation_set'"
     ]
    }
   ],
   "source": [
    "#Find similar images to a spacific image\n",
    "\n",
    "import os\n",
    "import requests\n",
    "import time\n",
    "\n",
    "API_KEY = 'acc_6143e9674b1c218'\n",
    "API_SECRET = '91dcb4c50d92be863573c465d9136506'\n",
    "\n",
    "API_ENDPOINT = 'https://api.imagga.com/v2'\n",
    "CATEGORIZER = 'general_v3'  # The default general purpose categorizer\n",
    "INDEX_NAME = 'similarity_tutorial_v1'\n",
    "\n",
    "categorizer_endpoint = '%s/categories/%s' % (API_ENDPOINT, CATEGORIZER)\n",
    "index_endpoint = ('%s/similar-images/categories/%s/%s' %\n",
    "                  (API_ENDPOINT, CATEGORIZER, INDEX_NAME))\n",
    "tickets_endpoint = '%s/tickets' % API_ENDPOINT\n",
    "\n",
    "def feed_image(image_path):\n",
    "    file_name = os.path.basename(image_path)\n",
    "    image_name, extension = os.path.splitext(file_name)\n",
    "    print(image_name)\n",
    "    # Make the API call\n",
    "    response = requests.post(\n",
    "        categorizer_endpoint,\n",
    "        auth=(API_KEY, API_SECRET),\n",
    "        files={'image': open(image_path, 'rb')},\n",
    "        params={'save_id': image_name, 'save_index': INDEX_NAME})\n",
    "\n",
    "    # Check for errors\n",
    "    try:\n",
    "        status = response.json()['status']\n",
    "        if status['type'] != 'success':\n",
    "            print('API reported error:', status['text'])\n",
    "            return False\n",
    "    except Exception as e:\n",
    "        print('Exception occured during handling the feeding response')\n",
    "        print(e)\n",
    "        return False\n",
    "\n",
    "    return True\n",
    "\n",
    "\n",
    "def train_index():\n",
    "    ticket_id = ''\n",
    "\n",
    "    # Make the API call\n",
    "    response = requests.put(index_endpoint, auth=(API_KEY, API_SECRET))\n",
    "\n",
    "    # Get the completion ticket\n",
    "    try:\n",
    "        ticket_id = response.json()['result']['ticket_id']\n",
    "    except Exception as e:\n",
    "        print('Exception occured when processing the train call response')\n",
    "        print(e, response.content)\n",
    "\n",
    "    return ticket_id\n",
    "\n",
    "def is_resolved(ticket_id):\n",
    "    resolved = False\n",
    "\n",
    "    # Make the API call\n",
    "    response = requests.get(\n",
    "        '%s/%s' % (tickets_endpoint, ticket_id), auth=(API_KEY, API_SECRET))\n",
    "\n",
    "    # Check for errors\n",
    "    try:\n",
    "        resolved = response.json()['result']['is_final']\n",
    "    except Exception as e:\n",
    "        print('Exception occured during the ticket status check')\n",
    "        print(e)\n",
    "\n",
    "    return resolved\n",
    "\n",
    "def main():\n",
    "    # Feed the visual search index with images\n",
    "    successful_feeds = 0\n",
    "    failed_feeds = 0\n",
    "\n",
    "    for image in os.scandir('C:\\\\Users\\\\LENOVO\\\\Desktop\\\\senior\\\\imagga_similarity_api_usage_code\\\\index_creation_set'):\n",
    "        print('At image %s: %s' % (successful_feeds, image.path))\n",
    "\n",
    "        successful = feed_image(image.path)\n",
    "        if successful:\n",
    "            successful_feeds += 1\n",
    "        else:\n",
    "            failed_feeds += 1\n",
    "\n",
    "    # Report\n",
    "    if not successful_feeds:\n",
    "        print('No images were fed successfully. Exiting')\n",
    "        return\n",
    "\n",
    "    print(\n",
    "        '%s out of %s images fed successfully' %\n",
    "        (successful_feeds, successful_feeds + failed_feeds))\n",
    "\n",
    "    # Train the index\n",
    "    ticket_id = train_index()\n",
    "\n",
    "    if not ticket_id:\n",
    "        print('No ticket id. Exiting')\n",
    "        return\n",
    "\n",
    "    # Wait for the training to complete\n",
    "    time_started = time.time()\n",
    "    while not is_resolved(ticket_id):\n",
    "        t_passed = (time.time() - time_started) // 1000\n",
    "        print(\n",
    "            'Waiting for training to finish (time elapsed: %.1fs)' % t_passed)\n",
    "\n",
    "        time.sleep(0.5)\n",
    "\n",
    "    print('Training done.')\n",
    "\n",
    "\n",
    "if __name__ == '__main__':\n",
    "    main()\n",
    "\n"
   ]
  },
  {
   "cell_type": "code",
   "execution_count": null,
   "metadata": {},
   "outputs": [],
   "source": []
  }
 ],
 "metadata": {
  "interpreter": {
   "hash": "425a7a0b894d0d7b96e65abda04de941a8e27784e145e819fca045cbc2a5a192"
  },
  "kernelspec": {
   "display_name": "Python 3.9.3 64-bit",
   "name": "python393jvsc74a57bd0ac59ebe37160ed0dfa835113d9b8498d9f09ceb179beaac4002f036b9467c963"
  },
  "language_info": {
   "codemirror_mode": {
    "name": "ipython",
    "version": 3
   },
   "file_extension": ".py",
   "mimetype": "text/x-python",
   "name": "python",
   "nbconvert_exporter": "python",
   "pygments_lexer": "ipython3",
   "version": "3.9.3"
  },
  "metadata": {
   "interpreter": {
    "hash": "ac59ebe37160ed0dfa835113d9b8498d9f09ceb179beaac4002f036b9467c963"
   }
  }
 },
 "nbformat": 4,
 "nbformat_minor": 5
}
