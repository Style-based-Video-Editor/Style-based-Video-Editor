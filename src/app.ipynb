{
 "cells": [
  {
   "cell_type": "markdown",
   "metadata": {},
   "source": [
    "# Install Libraries:"
   ]
  },
  {
   "cell_type": "code",
   "execution_count": null,
   "metadata": {},
   "outputs": [],
   "source": [
    "!pip install opencv-python\n",
    "!pip install scenedetect"
   ]
  },
  {
   "cell_type": "markdown",
   "metadata": {},
   "source": [
    "# Splitting the video"
   ]
  },
  {
   "cell_type": "code",
   "execution_count": null,
   "id": "224a2364",
   "metadata": {},
   "outputs": [],
   "source": [
    "# detect and split the video and put the result videos in the result folder\n",
    "!scenedetect -i ../videos/video.mp4 detect-content split-video -o ../result"
   ]
  },
  {
   "cell_type": "markdown",
   "metadata": {},
   "source": [
    "# Get the times of each scene"
   ]
  },
  {
   "cell_type": "code",
   "execution_count": 4,
   "id": "ce9c60f5",
   "metadata": {},
   "outputs": [
    {
     "ename": "ModuleNotFoundError",
     "evalue": "No module named 'scenedetect'",
     "output_type": "error",
     "traceback": [
      "\u001b[1;31m---------------------------------------------------------------------------\u001b[0m",
      "\u001b[1;31mModuleNotFoundError\u001b[0m                       Traceback (most recent call last)",
      "\u001b[1;32mC:\\Users\\NOORAB~1\\AppData\\Local\\Temp/ipykernel_6224/1713776252.py\u001b[0m in \u001b[0;36m<module>\u001b[1;34m\u001b[0m\n\u001b[0;32m      1\u001b[0m \u001b[1;31m# function to get the times of each scene\u001b[0m\u001b[1;33m\u001b[0m\u001b[1;33m\u001b[0m\u001b[1;33m\u001b[0m\u001b[0m\n\u001b[1;32m----> 2\u001b[1;33m \u001b[1;32mfrom\u001b[0m \u001b[0mscenedetect\u001b[0m \u001b[1;32mimport\u001b[0m \u001b[0mVideoManager\u001b[0m\u001b[1;33m\u001b[0m\u001b[1;33m\u001b[0m\u001b[0m\n\u001b[0m\u001b[0;32m      3\u001b[0m \u001b[1;32mfrom\u001b[0m \u001b[0mscenedetect\u001b[0m \u001b[1;32mimport\u001b[0m \u001b[0mSceneManager\u001b[0m\u001b[1;33m\u001b[0m\u001b[1;33m\u001b[0m\u001b[0m\n\u001b[0;32m      4\u001b[0m \u001b[1;33m\u001b[0m\u001b[0m\n\u001b[0;32m      5\u001b[0m \u001b[1;31m# For content-aware scene detection:\u001b[0m\u001b[1;33m\u001b[0m\u001b[1;33m\u001b[0m\u001b[1;33m\u001b[0m\u001b[0m\n",
      "\u001b[1;31mModuleNotFoundError\u001b[0m: No module named 'scenedetect'"
     ]
    }
   ],
   "source": [
    "# function to get the times of each scene\n",
    "from scenedetect import VideoManager\n",
    "from scenedetect import SceneManager\n",
    "\n",
    "# For content-aware scene detection:\n",
    "from scenedetect.detectors import ContentDetector\n",
    "\n",
    "def find_scenes(video_path, threshold=30.0):\n",
    "    # Create our video & scene managers, then add the detector.\n",
    "    video_manager = VideoManager([video_path])\n",
    "    scene_manager = SceneManager()\n",
    "    scene_manager.add_detector(ContentDetector(threshold=threshold))\n",
    "\n",
    "    # Improve processing speed by downscaling before processing.\n",
    "    video_manager.set_downscale_factor()\n",
    "\n",
    "    # Start the video manager and perform the scene detection.\n",
    "    video_manager.start()\n",
    "    scene_manager.detect_scenes(frame_source=video_manager)\n",
    "\n",
    "    # Each returned scene is a tuple of the (start, end) timecode.\n",
    "    return scene_manager.get_scene_list()"
   ]
  },
  {
   "cell_type": "code",
   "execution_count": null,
   "id": "37a6140c",
   "metadata": {},
   "outputs": [],
   "source": [
    "scenes = find_scenes(\"../Videos/video.mp4\")\n",
    "scenes\n"
   ]
  }
 ],
 "metadata": {
  "interpreter": {
   "hash": "a2b38e59c59fb6e5a47b73262d025a94199a3af81afb43eafe4bf51437c2f1e1"
  },
  "kernelspec": {
   "display_name": "Python 3.8.12 64-bit ('sp': conda)",
   "name": "python3"
  },
  "language_info": {
   "codemirror_mode": {
    "name": "ipython",
    "version": 3
   },
   "file_extension": ".py",
   "mimetype": "text/x-python",
   "name": "python",
   "nbconvert_exporter": "python",
   "pygments_lexer": "ipython3",
   "version": "3.8.12"
  }
 },
 "nbformat": 4,
 "nbformat_minor": 5
}
