{
 "cells": [],
 "metadata": {
  "interpreter": {
   "hash": "425a7a0b894d0d7b96e65abda04de941a8e27784e145e819fca045cbc2a5a192"
  },
  "kernelspec": {
   "display_name": "Python 3.9.7 64-bit ('sp': conda)",
   "name": "python3"
  },
  "language_info": {
   "codemirror_mode": {
    "name": "ipython",
    "version": 3
   },
   "file_extension": ".py",
   "mimetype": "text/x-python",
   "name": "python",
   "nbconvert_exporter": "python",
   "pygments_lexer": "ipython3",
   "version": "3.9.3"
  }
 },
 "nbformat": 4,
 "nbformat_minor": 5
}
