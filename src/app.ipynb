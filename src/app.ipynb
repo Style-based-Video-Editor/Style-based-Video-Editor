{
 "cells": [
  {
   "cell_type": "markdown",
   "metadata": {},
   "source": [
    "# Install Libraries:"
   ]
  },
  {
   "cell_type": "code",
   "execution_count": null,
   "metadata": {},
   "outputs": [],
   "source": [
    "!pip install opencv-python\n",
    "!pip install scenedetect\n"
   ]
  },
  {
   "cell_type": "markdown",
   "metadata": {},
   "source": [
    "# Splitting the video"
   ]
  },
  {
   "cell_type": "code",
   "execution_count": null,
   "id": "224a2364",
   "metadata": {},
   "outputs": [],
   "source": [
    "#detect and split the video and but the result videos in the result folder\n",
    "!scenedetect -i ../videos/video.mp4 detect-content split-video -o ../result"
   ]
  },
  {
   "cell_type": "markdown",
   "metadata": {},
   "source": [
    "# Get the times of each scene"
   ]
  },
  {
   "cell_type": "code",
   "execution_count": 1,
   "id": "ce9c60f5",
   "metadata": {},
   "outputs": [],
   "source": [
    "# function to get the times of each scene\n",
    "from scenedetect import VideoManager\n",
    "from scenedetect import SceneManager\n",
    "\n",
    "# For content-aware scene detection:\n",
    "from scenedetect.detectors import ContentDetector\n",
    "\n",
    "def find_scenes(video_path, threshold=30.0):\n",
    "    # Create our video & scene managers, then add the detector.\n",
    "    video_manager = VideoManager([video_path])\n",
    "    scene_manager = SceneManager()\n",
    "    scene_manager.add_detector(ContentDetector(threshold=threshold))\n",
    "\n",
    "    # Improve processing speed by downscaling before processing.\n",
    "    video_manager.set_downscale_factor()\n",
    "\n",
    "    # Start the video manager and perform the scene detection.\n",
    "    video_manager.start()\n",
    "    scene_manager.detect_scenes(frame_source=video_manager)\n",
    "\n",
    "    # Each returned scene is a tuple of the (start, end) timecode.\n",
    "    return scene_manager.get_scene_list()"
   ]
  },
  {
   "cell_type": "code",
   "execution_count": null,
   "id": "37a6140c",
   "metadata": {},
   "outputs": [],
   "source": [
    "scenes = find_scenes(\"../Videos/video.mp4\")\n",
    "scenes\n"
   ]
  }
 ],
 "metadata": {
  "interpreter": {
   "hash": "425a7a0b894d0d7b96e65abda04de941a8e27784e145e819fca045cbc2a5a192"
  },
  "kernelspec": {
   "display_name": "Python 3.9.7 64-bit ('sp': conda)",
   "name": "python3"
  },
  "language_info": {
   "codemirror_mode": {
    "name": "ipython",
    "version": 3
   },
   "file_extension": ".py",
   "mimetype": "text/x-python",
   "name": "python",
   "nbconvert_exporter": "python",
   "pygments_lexer": "ipython3",
   "version": "3.9.7"
  }
 },
 "nbformat": 4,
 "nbformat_minor": 5
}
