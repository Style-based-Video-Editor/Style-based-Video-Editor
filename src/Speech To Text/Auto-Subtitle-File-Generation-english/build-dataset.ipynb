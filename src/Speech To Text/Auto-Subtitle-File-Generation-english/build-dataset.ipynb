{
 "cells": [
  {
   "cell_type": "markdown",
   "metadata": {},
   "source": [
    "# Generate dataset"
   ]
  },
  {
   "cell_type": "code",
   "execution_count": 1,
   "metadata": {},
   "outputs": [
    {
     "name": "stderr",
     "output_type": "stream",
     "text": [
      "C:\\Users\\Omar\\Anaconda3\\lib\\site-packages\\sklearn\\linear_model\\least_angle.py:30: DeprecationWarning: `np.float` is a deprecated alias for the builtin `float`. To silence this warning, use `float` by itself. Doing this will not modify any behavior and is safe. If you specifically wanted the numpy scalar type, use `np.float64` here.\n",
      "Deprecated in NumPy 1.20; for more details and guidance: https://numpy.org/devdocs/release/1.20.0-notes.html#deprecations\n",
      "  method='lar', copy_X=True, eps=np.finfo(np.float).eps,\n",
      "C:\\Users\\Omar\\Anaconda3\\lib\\site-packages\\sklearn\\linear_model\\least_angle.py:167: DeprecationWarning: `np.float` is a deprecated alias for the builtin `float`. To silence this warning, use `float` by itself. Doing this will not modify any behavior and is safe. If you specifically wanted the numpy scalar type, use `np.float64` here.\n",
      "Deprecated in NumPy 1.20; for more details and guidance: https://numpy.org/devdocs/release/1.20.0-notes.html#deprecations\n",
      "  method='lar', copy_X=True, eps=np.finfo(np.float).eps,\n",
      "C:\\Users\\Omar\\Anaconda3\\lib\\site-packages\\sklearn\\linear_model\\least_angle.py:284: DeprecationWarning: `np.float` is a deprecated alias for the builtin `float`. To silence this warning, use `float` by itself. Doing this will not modify any behavior and is safe. If you specifically wanted the numpy scalar type, use `np.float64` here.\n",
      "Deprecated in NumPy 1.20; for more details and guidance: https://numpy.org/devdocs/release/1.20.0-notes.html#deprecations\n",
      "  eps=np.finfo(np.float).eps, copy_Gram=True, verbose=0,\n",
      "C:\\Users\\Omar\\Anaconda3\\lib\\site-packages\\sklearn\\linear_model\\least_angle.py:862: DeprecationWarning: `np.float` is a deprecated alias for the builtin `float`. To silence this warning, use `float` by itself. Doing this will not modify any behavior and is safe. If you specifically wanted the numpy scalar type, use `np.float64` here.\n",
      "Deprecated in NumPy 1.20; for more details and guidance: https://numpy.org/devdocs/release/1.20.0-notes.html#deprecations\n",
      "  eps=np.finfo(np.float).eps, copy_X=True, fit_path=True,\n",
      "C:\\Users\\Omar\\Anaconda3\\lib\\site-packages\\sklearn\\linear_model\\least_angle.py:1101: DeprecationWarning: `np.float` is a deprecated alias for the builtin `float`. To silence this warning, use `float` by itself. Doing this will not modify any behavior and is safe. If you specifically wanted the numpy scalar type, use `np.float64` here.\n",
      "Deprecated in NumPy 1.20; for more details and guidance: https://numpy.org/devdocs/release/1.20.0-notes.html#deprecations\n",
      "  eps=np.finfo(np.float).eps, copy_X=True, fit_path=True,\n",
      "C:\\Users\\Omar\\Anaconda3\\lib\\site-packages\\sklearn\\linear_model\\least_angle.py:1127: DeprecationWarning: `np.float` is a deprecated alias for the builtin `float`. To silence this warning, use `float` by itself. Doing this will not modify any behavior and is safe. If you specifically wanted the numpy scalar type, use `np.float64` here.\n",
      "Deprecated in NumPy 1.20; for more details and guidance: https://numpy.org/devdocs/release/1.20.0-notes.html#deprecations\n",
      "  eps=np.finfo(np.float).eps, positive=False):\n",
      "C:\\Users\\Omar\\Anaconda3\\lib\\site-packages\\sklearn\\linear_model\\least_angle.py:1362: DeprecationWarning: `np.float` is a deprecated alias for the builtin `float`. To silence this warning, use `float` by itself. Doing this will not modify any behavior and is safe. If you specifically wanted the numpy scalar type, use `np.float64` here.\n",
      "Deprecated in NumPy 1.20; for more details and guidance: https://numpy.org/devdocs/release/1.20.0-notes.html#deprecations\n",
      "  max_n_alphas=1000, n_jobs=None, eps=np.finfo(np.float).eps,\n",
      "C:\\Users\\Omar\\Anaconda3\\lib\\site-packages\\sklearn\\linear_model\\least_angle.py:1602: DeprecationWarning: `np.float` is a deprecated alias for the builtin `float`. To silence this warning, use `float` by itself. Doing this will not modify any behavior and is safe. If you specifically wanted the numpy scalar type, use `np.float64` here.\n",
      "Deprecated in NumPy 1.20; for more details and guidance: https://numpy.org/devdocs/release/1.20.0-notes.html#deprecations\n",
      "  max_n_alphas=1000, n_jobs=None, eps=np.finfo(np.float).eps,\n",
      "C:\\Users\\Omar\\Anaconda3\\lib\\site-packages\\sklearn\\linear_model\\least_angle.py:1738: DeprecationWarning: `np.float` is a deprecated alias for the builtin `float`. To silence this warning, use `float` by itself. Doing this will not modify any behavior and is safe. If you specifically wanted the numpy scalar type, use `np.float64` here.\n",
      "Deprecated in NumPy 1.20; for more details and guidance: https://numpy.org/devdocs/release/1.20.0-notes.html#deprecations\n",
      "  eps=np.finfo(np.float).eps, copy_X=True, positive=False):\n",
      "C:\\Users\\Omar\\Anaconda3\\lib\\site-packages\\sklearn\\decomposition\\online_lda.py:29: DeprecationWarning: `np.float` is a deprecated alias for the builtin `float`. To silence this warning, use `float` by itself. Doing this will not modify any behavior and is safe. If you specifically wanted the numpy scalar type, use `np.float64` here.\n",
      "Deprecated in NumPy 1.20; for more details and guidance: https://numpy.org/devdocs/release/1.20.0-notes.html#deprecations\n",
      "  EPS = np.finfo(np.float).eps\n",
      "C:\\Users\\Omar\\Anaconda3\\lib\\site-packages\\sklearn\\feature_extraction\\image.py:167: DeprecationWarning: `np.int` is a deprecated alias for the builtin `int`. To silence this warning, use `int` by itself. Doing this will not modify any behavior and is safe. When replacing `np.int`, you may wish to use e.g. `np.int64` or `np.int32` to specify the precision. If you wish to review your current use, check the release note link for additional information.\n",
      "Deprecated in NumPy 1.20; for more details and guidance: https://numpy.org/devdocs/release/1.20.0-notes.html#deprecations\n",
      "  dtype=np.int):\n"
     ]
    },
    {
     "ename": "SyntaxError",
     "evalue": "invalid syntax (decoder.py, line 43)",
     "output_type": "error",
     "traceback": [
      "Traceback \u001b[1;36m(most recent call last)\u001b[0m:\n",
      "  File \u001b[0;32m\"C:\\Users\\Omar\\Anaconda3\\lib\\site-packages\\IPython\\core\\interactiveshell.py\"\u001b[0m, line \u001b[0;32m3326\u001b[0m, in \u001b[0;35mrun_code\u001b[0m\n    exec(code_obj, self.user_global_ns, self.user_ns)\n",
      "\u001b[1;36m  File \u001b[1;32m\"<ipython-input-1-83699259e1f9>\"\u001b[1;36m, line \u001b[1;32m4\u001b[1;36m, in \u001b[1;35m<module>\u001b[1;36m\u001b[0m\n\u001b[1;33m    import decoder\u001b[0m\n",
      "\u001b[1;36m  File \u001b[1;32m\"C:\\Users\\Omar\\Downloads\\Auto-Subtitle-File-Generation-main\\decoder.py\"\u001b[1;36m, line \u001b[1;32m43\u001b[0m\n\u001b[1;33m    if on_end := ((onset / 2. + 1) * 2 - onset) < DC.trimming_start:\u001b[0m\n\u001b[1;37m               ^\u001b[0m\n\u001b[1;31mSyntaxError\u001b[0m\u001b[1;31m:\u001b[0m invalid syntax\n"
     ]
    }
   ],
   "source": [
    "from csrc.build import generate_from_audio\n",
    "from csrc.configurations import DatasetConfig as DC\n",
    "from utils import check_type, extract_audio, count_class\n",
    "import decoder"
   ]
  },
  {
   "cell_type": "code",
   "execution_count": 8,
   "metadata": {},
   "outputs": [
    {
     "name": "stdout",
     "output_type": "stream",
     "text": [
      "Collecting csrc\n"
     ]
    },
    {
     "name": "stderr",
     "output_type": "stream",
     "text": [
      "  ERROR: Could not find a version that satisfies the requirement csrc (from versions: none)\n",
      "ERROR: No matching distribution found for csrc\n"
     ]
    }
   ],
   "source": [
    "!pip install csrc"
   ]
  },
  {
   "cell_type": "markdown",
   "metadata": {},
   "source": [
    "## user configurations"
   ]
  },
  {
   "cell_type": "code",
   "execution_count": 3,
   "metadata": {},
   "outputs": [],
   "source": [
    "# Kowning: the name of the audio is restrained to (name-lang).xxx, you can define the name as you like but remember to add the  standard language type as lang.\n",
    "# You can name your subtitle file as your want.\n",
    "# test_clips = (r\"./src/src-test/test-eng.mp4\", r\"./src/src-test/test.ass\")\n",
    "\n",
    "\n",
    "ab = (\"./src/src-american-beauty/american-beauty-eng.ac3\", \"./src/src-american-beauty/american-beauty-eng.ass\") # America beauty 美国丽人\n",
    "dbc = (\"./src/src-dallas-buyers-club/dallas-buyers-club-eng.dts\", \"./src/src-dallas-buyers-club/dallas-buyers-club-eng.srt\") # Dallas buyers club 达拉斯买家俱乐部\n",
    "fkdsc = (\"./src/src-fkdsc/src-fkdsc.wav\", \"./src/src-fkdsc/src-fkdsc.srt\") # 疯狂的石头\n",
    "identity = (\"./src/src-identity/src-identity.ac3\", \"./src/src-identity/src-identity.ass\") # Identity 致命ID\n",
    "jjh = (\"./src/src-jjh/src-jjh.wav\", \"./src/src-jjh/src-jjh.ssa\") # 集结号 \n",
    "kf = (\"./src/src-kong-fu/src-kong-fu.wav\", \"./src/src-kong-fu/src-kong-fu.ass\") # 功夫\n",
    "lac = (\"./src/src-la-confidential/src-la-confidential.ac3\", \"./src/src-la-confidential/src-la-confidential.ass\") # LA confidential 洛城机密 \n",
    "mi = (\"./src/src-mission-impossible-iv/src-mission-impossible-iv.ac3\", \"./src/src-mission-impossible-iv/src-mission-impossible-iv.ass\") # Mission impossible IV 碟中谍4\n",
    "rzdf = (\"./src/src-rzdf/src-rzdf.wav\", \"./src/src-rzdf/src-rzdf.srt\") # 让子弹飞 \n",
    "sls = (\"./src/src-shaolin-soccer/src-shaolin-soccer.ac3\", \"./src/src-shaolin-soccer/src-shaolin-soccer.ass\") # 少林足球 \n",
    "tdkr = (\"./src/src-the-dark-knight-rises/the-dark-knight-rises-eng.mp3\", \"./src/src-the-dark-knight-rises/the-dark-knight-rises-eng.ass\") # The dark knight rises 蝙蝠侠-黑暗骑士崛起\n",
    "tkoh = (\"./src/src-the-kingdom-of-heaven/the-kingdom-of-heaven-eng.ac3\", \"./src/src-the-kingdom-of-heaven/the-kingdom-of-heaven-eng.ass\") # The kingdom of heaven 天国王朝\n",
    "tks = (\"./src/src-the-kings-speech/the-kings-speech-eng.ac3\", \"./src/src-the-kings-speech/the-kings-speech-eng.ass\") # The kings speech 国王的演讲\n",
    "tmr = (\"./src/src-the-matrix-reloaded/src-the-matrix-reloaded.wav\", \"./src/src-the-matrix-reloaded/src-the-matrix-reloaded.ass\") # The matrix reloaded 黑客帝国：重装上阵 \n",
    "tw = (\"./src/src-the-warlords/src-the-warlords.wav\", \"./src/src-the-warlords/src-the-warlords.ass\") # 投名状\n",
    "\n",
    "dataset_source_long = [ab, dbc, fkdsc, identity, jjh, kf, lac, rzdf, sls, mi, tdkr, tkoh, tks, tmr, tw]\n",
    "\n",
    "dataset_source_short = [ab, dbc, fkdsc, identity, jjh, kf]\n",
    "\n",
    "dataset_source_medium = [ab, dbc, fkdsc, identity, jjh, kf, lac, rzdf, sls, mi]\n",
    "\n",
    "sources = [\n",
    "    # (audio file path under src, subtitle file path correspondingly under src)\\n\",\n",
    "    *dataset_source_long\n",
    "]\n",
    "\n",
    "# Destination folder for you to store current sources clips.\n",
    "# It\"s ok if you want to store clips directly under the data folder.\n",
    "# and this won\"t effect whether you want to separate the train/test folder by yourself.\n",
    "\n",
    "dest_path = (\"./data/standard-p2-32khz/\")"
   ]
  },
  {
   "cell_type": "code",
   "execution_count": 4,
   "metadata": {},
   "outputs": [
    {
     "ename": "FileNotFoundError",
     "evalue": "[WinError 3] The system cannot find the path specified: './data/standard-p2-32khz/'",
     "output_type": "error",
     "traceback": [
      "\u001b[1;31m---------------------------------------------------------------------------\u001b[0m",
      "\u001b[1;31mFileNotFoundError\u001b[0m                         Traceback (most recent call last)",
      "\u001b[1;32m<ipython-input-4-d74f9f38a8a8>\u001b[0m in \u001b[0;36m<module>\u001b[1;34m\u001b[0m\n\u001b[1;32m----> 1\u001b[1;33m \u001b[0m_\u001b[0m\u001b[1;33m,\u001b[0m \u001b[0m_\u001b[0m\u001b[1;33m,\u001b[0m \u001b[0m_\u001b[0m \u001b[1;33m=\u001b[0m \u001b[0mcount_class\u001b[0m\u001b[1;33m(\u001b[0m\u001b[0mdest_path\u001b[0m\u001b[1;33m)\u001b[0m\u001b[1;33m\u001b[0m\u001b[1;33m\u001b[0m\u001b[0m\n\u001b[0m",
      "\u001b[1;32m~\\Downloads\\Auto-Subtitle-File-Generation-main\\utils.py\u001b[0m in \u001b[0;36mcount_class\u001b[1;34m(path)\u001b[0m\n\u001b[0;32m    134\u001b[0m     \u001b[0mtotal\u001b[0m \u001b[1;33m=\u001b[0m \u001b[1;36m0\u001b[0m\u001b[1;33m\u001b[0m\u001b[1;33m\u001b[0m\u001b[0m\n\u001b[0;32m    135\u001b[0m \u001b[1;33m\u001b[0m\u001b[0m\n\u001b[1;32m--> 136\u001b[1;33m     \u001b[1;32mfor\u001b[0m \u001b[0mfile\u001b[0m \u001b[1;32min\u001b[0m \u001b[0mos\u001b[0m\u001b[1;33m.\u001b[0m\u001b[0mlistdir\u001b[0m\u001b[1;33m(\u001b[0m\u001b[0mpath\u001b[0m\u001b[1;33m)\u001b[0m\u001b[1;33m:\u001b[0m\u001b[1;33m\u001b[0m\u001b[1;33m\u001b[0m\u001b[0m\n\u001b[0m\u001b[0;32m    137\u001b[0m         \u001b[0mc\u001b[0m \u001b[1;33m=\u001b[0m \u001b[0mstr\u001b[0m\u001b[1;33m(\u001b[0m\u001b[0mfile\u001b[0m\u001b[1;33m)\u001b[0m\u001b[1;33m.\u001b[0m\u001b[0msplit\u001b[0m\u001b[1;33m(\u001b[0m\u001b[1;34m\".\"\u001b[0m\u001b[1;33m)\u001b[0m\u001b[1;33m[\u001b[0m\u001b[1;36m0\u001b[0m\u001b[1;33m]\u001b[0m\u001b[1;33m[\u001b[0m\u001b[1;33m-\u001b[0m\u001b[1;36m1\u001b[0m\u001b[1;33m]\u001b[0m\u001b[1;33m\u001b[0m\u001b[1;33m\u001b[0m\u001b[0m\n\u001b[0;32m    138\u001b[0m         \u001b[0mones\u001b[0m \u001b[1;33m+=\u001b[0m \u001b[0mint\u001b[0m\u001b[1;33m(\u001b[0m\u001b[0mc\u001b[0m\u001b[1;33m)\u001b[0m\u001b[1;33m\u001b[0m\u001b[1;33m\u001b[0m\u001b[0m\n",
      "\u001b[1;31mFileNotFoundError\u001b[0m: [WinError 3] The system cannot find the path specified: './data/standard-p2-32khz/'"
     ]
    }
   ],
   "source": [
    "_, _, _ = count_class(dest_path)"
   ]
  },
  {
   "cell_type": "markdown",
   "metadata": {},
   "source": [
    "## Start auto generation"
   ]
  },
  {
   "cell_type": "code",
   "execution_count": 5,
   "metadata": {
    "tags": []
   },
   "outputs": [
    {
     "ename": "NameError",
     "evalue": "name 'decoder' is not defined",
     "output_type": "error",
     "traceback": [
      "\u001b[1;31m---------------------------------------------------------------------------\u001b[0m",
      "\u001b[1;31mNameError\u001b[0m                                 Traceback (most recent call last)",
      "\u001b[1;32m<ipython-input-5-3b6ce11d97c9>\u001b[0m in \u001b[0;36m<module>\u001b[1;34m\u001b[0m\n\u001b[0;32m      1\u001b[0m \u001b[1;32mfor\u001b[0m \u001b[0msource_file_path\u001b[0m\u001b[1;33m,\u001b[0m \u001b[0msubtitle_file_path\u001b[0m \u001b[1;32min\u001b[0m \u001b[0msources\u001b[0m\u001b[1;33m:\u001b[0m\u001b[1;33m\u001b[0m\u001b[1;33m\u001b[0m\u001b[0m\n\u001b[0;32m      2\u001b[0m     \u001b[1;32mif\u001b[0m \u001b[0msubtitle_file_path\u001b[0m\u001b[1;33m.\u001b[0m\u001b[0msplit\u001b[0m\u001b[1;33m(\u001b[0m\u001b[1;34m\".\"\u001b[0m\u001b[1;33m)\u001b[0m\u001b[1;33m[\u001b[0m\u001b[1;33m-\u001b[0m\u001b[1;36m1\u001b[0m\u001b[1;33m]\u001b[0m \u001b[1;32min\u001b[0m \u001b[1;33m[\u001b[0m\u001b[1;34m\"ass\"\u001b[0m\u001b[1;33m,\u001b[0m \u001b[1;34m\"ssa\"\u001b[0m\u001b[1;33m]\u001b[0m\u001b[1;33m:\u001b[0m\u001b[1;33m\u001b[0m\u001b[1;33m\u001b[0m\u001b[0m\n\u001b[1;32m----> 3\u001b[1;33m         \u001b[0msubtitle_decoder\u001b[0m \u001b[1;33m=\u001b[0m \u001b[0mdecoder\u001b[0m\u001b[1;33m.\u001b[0m\u001b[0mASSDecoder\u001b[0m\u001b[1;33m\u001b[0m\u001b[1;33m\u001b[0m\u001b[0m\n\u001b[0m\u001b[0;32m      4\u001b[0m     \u001b[1;32mif\u001b[0m \u001b[0msubtitle_file_path\u001b[0m\u001b[1;33m.\u001b[0m\u001b[0msplit\u001b[0m\u001b[1;33m(\u001b[0m\u001b[1;34m\".\"\u001b[0m\u001b[1;33m)\u001b[0m\u001b[1;33m[\u001b[0m\u001b[1;33m-\u001b[0m\u001b[1;36m1\u001b[0m\u001b[1;33m]\u001b[0m\u001b[1;33m==\u001b[0m\u001b[1;34m\"srt\"\u001b[0m\u001b[1;33m:\u001b[0m\u001b[1;33m\u001b[0m\u001b[1;33m\u001b[0m\u001b[0m\n\u001b[0;32m      5\u001b[0m         \u001b[0msubtitle_decoder\u001b[0m \u001b[1;33m=\u001b[0m \u001b[0mdecoder\u001b[0m\u001b[1;33m.\u001b[0m\u001b[0mSRTDecoder\u001b[0m\u001b[1;33m\u001b[0m\u001b[1;33m\u001b[0m\u001b[0m\n",
      "\u001b[1;31mNameError\u001b[0m: name 'decoder' is not defined"
     ]
    }
   ],
   "source": [
    "for source_file_path, subtitle_file_path in sources: \n",
    "    if subtitle_file_path.split(\".\")[-1] in [\"ass\", \"ssa\"]:\n",
    "        subtitle_decoder = decoder.ASSDecoder\n",
    "    if subtitle_file_path.split(\".\")[-1]==\"srt\":\n",
    "        subtitle_decoder = decoder.SRTDecoder   \n",
    "    is_video = check_type(source_file_path)\n",
    "    audio_file_path = extract_audio(source_file_path, format=DC.dataset_audio_format) if is_video else source_file_path\n",
    "    generate_from_audio(audio_path=audio_file_path, sub_path=subtitle_file_path, dest_path=dest_path, sub_decoder=subtitle_decoder,  verbose=False)"
   ]
  },
  {
   "cell_type": "code",
   "execution_count": null,
   "metadata": {},
   "outputs": [],
   "source": [
    "_, _, _ = count_class(dest_path)"
   ]
  },
  {
   "cell_type": "markdown",
   "metadata": {},
   "source": [
    "### LOG\n",
    "\n",
    "Building process finished for american-beauty-eng.\n",
    "Label 1 (speech) clips: 2087\n",
    "Label 0 (non-speech) clips: 1564 \n",
    "\n",
    "Building process finished for dallas-buyers-club-eng.\n",
    "Label 1 (speech) clips: 2086\n",
    "Label 0 (non-speech) clips: 1423 \n",
    "\n",
    "Building process finished for src-fkdsc.\n",
    "Label 1 (speech) clips: 1820\n",
    "Label 0 (non-speech) clips: 1309 \n",
    "\n",
    "Building process finished for src-identity.\n",
    "Label 1 (speech) clips: 1584\n",
    "Label 0 (non-speech) clips: 1118 \n",
    "\n",
    "Building process finished for src-jjh.\n",
    "Label 1 (speech) clips: 2232\n",
    "Label 0 (non-speech) clips: 1484 \n",
    "\n",
    "Building process finished for src-kong-fu.\n",
    "Label 1 (speech) clips: 1124\n",
    "Label 0 (non-speech) clips: 1859 \n",
    "\n",
    "Building process finished for src-la-confidential.\n",
    "Label 1 (speech) clips: 2747\n",
    "Label 0 (non-speech) clips: 1390 \n",
    "\n",
    "Building process finished for src-rzdf.\n",
    "Label 1 (speech) clips: 3124\n",
    "Label 0 (non-speech) clips: 842 \n",
    "\n",
    "Building process finished for src-shaolin-soccer.\n",
    "Label 1 (speech) clips: 1635\n",
    "Label 0 (non-speech) clips: 1655 \n",
    "\n",
    "Building process finished for src-mission-impossible-iv.\n",
    "Label 1 (speech) clips: 1990\n",
    "Label 0 (non-speech) clips: 1999 \n",
    "\n",
    "Building process finished for the-dark-knight-rises-eng.\n",
    "Label 1 (speech) clips: 3046\n",
    "Label 0 (non-speech) clips: 1891 \n",
    "\n",
    "Building process finished for the-kingdom-of-heaven-eng.\n",
    "Label 1 (speech) clips: 2379\n",
    "Label 0 (non-speech) clips: 3308 \n",
    "\n",
    "Building process finished for the-kings-speech-eng.\n",
    "Label 1 (speech) clips: 2419\n",
    "Label 0 (non-speech) clips: 1136 \n",
    "\n",
    "Building process finished for src-the-matrix-reloaded.\n",
    "Label 1 (speech) clips: 441\n",
    "Label 0 (non-speech) clips: 3707 \n",
    "\n",
    "Building process finished for src-the-warlords.\n",
    "Label 1 (speech) clips: 1669\n",
    "Label 0 (non-speech) clips: 2102 \n",
    "\n",
    "TOTAL: \n",
    "Label 1 instances: 30383\n",
    "Label 0 instances: 26787\n",
    "Total clips: 57170\n"
   ]
  }
 ],
 "metadata": {
  "kernelspec": {
   "display_name": "Python 3",
   "language": "python",
   "name": "python3"
  },
  "language_info": {
   "codemirror_mode": {
    "name": "ipython",
    "version": 3
   },
   "file_extension": ".py",
   "mimetype": "text/x-python",
   "name": "python",
   "nbconvert_exporter": "python",
   "pygments_lexer": "ipython3",
   "version": "3.7.4"
  }
 },
 "nbformat": 4,
 "nbformat_minor": 2
}
