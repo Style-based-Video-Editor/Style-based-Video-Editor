{
 "cells": [
  {
   "cell_type": "code",
   "execution_count": null,
   "metadata": {},
   "outputs": [],
   "source": []
  }
 ],
 "metadata": {
  "interpreter": {
   "hash": "d760e87bf1a6a7bef27f970d476fbccb62134bcab852bbc6fe3f0a538cd651ad"
  },
  "kernelspec": {
   "display_name": "Python 3.6.1 32-bit",
   "language": "python",
   "name": "python3"
  },
  "language_info": {
   "name": "python",
   "version": "3.6.1"
  },
  "orig_nbformat": 4
 },
 "nbformat": 4,
 "nbformat_minor": 2
}
