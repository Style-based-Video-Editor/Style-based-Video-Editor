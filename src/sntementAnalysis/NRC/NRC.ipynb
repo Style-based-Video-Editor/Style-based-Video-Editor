{
 "cells": [
  {
   "cell_type": "code",
   "execution_count": null,
   "metadata": {},
   "outputs": [],
   "source": [
    "!pip install NRCLex"
   ]
  },
  {
   "cell_type": "markdown",
   "metadata": {},
   "source": [
    "# Test"
   ]
  },
  {
   "cell_type": "code",
   "execution_count": null,
   "metadata": {},
   "outputs": [],
   "source": [
    "from nrclex import NRCLex\n",
    " \n",
    "path = \"./Dataset/data.txt\"\n",
    "data = []\n",
    "with open(path) as f:\n",
    "    line = f.readline()\n",
    "    while line:\n",
    "        line = f.readline()\n",
    "        data.append(line)\n",
    "    #change the index to try another sentence\n",
    "    emotion = NRCLex(data[0])\n",
    "    print('\\n\\n', emotion.sentences)\n",
    "    print('\\n\\n', emotion.top_emotions)"
   ]
  },
  {
   "cell_type": "markdown",
   "metadata": {},
   "source": [
    "# Gitting The Highest Emotions In The Sentence"
   ]
  },
  {
   "cell_type": "code",
   "execution_count": null,
   "metadata": {},
   "outputs": [],
   "source": [
    "from nrclex import NRCLex\n",
    "path = \"./Dataset/data.txt\"\n",
    "data = []\n",
    "def TopEmo():\n",
    "    with open(path) as f:\n",
    "        line = f.readline()\n",
    "        while line:\n",
    "            line = f.readline()\n",
    "            data.append(line)\n",
    "    for i in range(len(data)-1):\n",
    "        emotion = NRCLex(data[i])\n",
    "        print('\\n', emotion.sentences)\n",
    "        print('\\n', emotion.top_emotions)\n",
    "TopEmo()"
   ]
  },
  {
   "cell_type": "markdown",
   "metadata": {},
   "source": [
    "# Gitting The Frequencies Of The Emotions"
   ]
  },
  {
   "cell_type": "code",
   "execution_count": null,
   "metadata": {},
   "outputs": [],
   "source": [
    "from nrclex import NRCLex\n",
    "path = \"./Dataset/data.txt\"\n",
    "data = []\n",
    "def emo():\n",
    "\twith open(path) as f:\n",
    "\t\tline = f.readline()\n",
    "\t\twhile line:\n",
    "\t\t\tline = f.readline()\n",
    "\t\t\tdata.append(line)\n",
    "\tfor i in range(len(data)-1):\n",
    "\t\temotion = NRCLex(data[i])\n",
    "\t\tprint('\\n', emotion.sentences)\n",
    "\t\tprint('\\n', emotion.affect_frequencies)\n",
    "emo()\n"
   ]
  },
  {
   "cell_type": "markdown",
   "metadata": {},
   "source": [
    "# Testing Methodes"
   ]
  },
  {
   "cell_type": "code",
   "execution_count": null,
   "metadata": {},
   "outputs": [],
   "source": [
    "from nrclex import NRCLex\n",
    "path = \"./Dataset/data.txt\"\n",
    "data = []\n",
    "def details():\n",
    "    with open(path) as f:\n",
    "        line = f.readline()\n",
    "        while line:\n",
    "            line = f.readline()\n",
    "            data.append(line)\n",
    "    for i in range(len(data)-1):\n",
    "        emotion = NRCLex(data[i])\n",
    "        print('\\n', emotion.sentences)\n",
    "        print('\\n', emotion.words)\n",
    "        print('\\n', emotion.affect_list)\n",
    "        print('\\n', emotion.affect_dict)\n",
    "        print('\\n', emotion.raw_emotion_scores)\n",
    "        print('\\n', emotion.top_emotions)\n",
    "        print('\\n', emotion.affect_frequencies)\n",
    "details()"
   ]
  }
 ],
 "metadata": {
  "interpreter": {
   "hash": "a2b38e59c59fb6e5a47b73262d025a94199a3af81afb43eafe4bf51437c2f1e1"
  },
  "kernelspec": {
   "display_name": "Python 3.8.12 64-bit ('sp': conda)",
   "language": "python",
   "name": "python3"
  },
  "language_info": {
   "codemirror_mode": {
    "name": "ipython",
    "version": 3
   },
   "file_extension": ".py",
   "mimetype": "text/x-python",
   "name": "python",
   "nbconvert_exporter": "python",
   "pygments_lexer": "ipython3",
   "version": "3.8.12"
  },
  "orig_nbformat": 4
 },
 "nbformat": 4,
 "nbformat_minor": 2
}
