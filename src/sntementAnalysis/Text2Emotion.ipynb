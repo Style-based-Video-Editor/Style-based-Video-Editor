{
 "cells": [
  {
   "cell_type": "code",
   "execution_count": null,
   "metadata": {},
   "outputs": [],
   "source": [
    "import text2emotion as te"
   ]
  },
  {
   "cell_type": "markdown",
   "metadata": {},
   "source": [
    "# Test"
   ]
  },
  {
   "cell_type": "code",
   "execution_count": null,
   "metadata": {},
   "outputs": [],
   "source": [
    "path = r\"C:\\Users\\Noor AB\\Desktop\\Style-based-Video-Editor\\src\\sntementAnalysis\\Dataset\\stdata.txt\"\n",
    "data = []\n",
    "with open(path) as f:\n",
    "    line = f.readline()\n",
    "    while line:\n",
    "        line = f.readline()\n",
    "        data.append(line)\n",
    "        \n",
    "te.get_emotion(data[0])"
   ]
  },
  {
   "cell_type": "markdown",
   "metadata": {},
   "source": [
    "# Gitting Emotion"
   ]
  },
  {
   "cell_type": "code",
   "execution_count": null,
   "metadata": {},
   "outputs": [],
   "source": [
    "import text2emotion as te\n",
    "path = r\"C:\\Users\\Noor AB\\Desktop\\Style-based-Video-Editor\\src\\sntementAnalysis\\Dataset\\stdata.txt\"\n",
    "def emo():\n",
    "    data = []\n",
    "    with open(path) as f:\n",
    "        line = f.readline()\n",
    "        while line:\n",
    "            line = f.readline()\n",
    "            data.append(line)\n",
    "    emotion = te.get_emotion(data[6])\n",
    "    maxemotion = max(zip(emotion.values(),emotion.keys()))\n",
    "    memotion = max(zip(emotion.keys(),emotion.values()))\n",
    "    Keymax = max(emotion, key= lambda x: emotion[x])\n",
    "    v = list(emotion.values())\n",
    "    k = list(emotion.keys())\n",
    "    print(emotion)\n",
    "    print('\\n',k[v.index(max(v))],v[v.index(max(v))])\n",
    "    #print(maxemotion)\n",
    "    #print(memotion)\n",
    "    #print(Keymax)\n",
    "emo()"
   ]
  }
 ],
 "metadata": {
  "interpreter": {
   "hash": "a2b38e59c59fb6e5a47b73262d025a94199a3af81afb43eafe4bf51437c2f1e1"
  },
  "kernelspec": {
   "display_name": "Python 3.8.12 64-bit ('sp': conda)",
   "language": "python",
   "name": "python3"
  },
  "language_info": {
   "codemirror_mode": {
    "name": "ipython",
    "version": 3
   },
   "file_extension": ".py",
   "mimetype": "text/x-python",
   "name": "python",
   "nbconvert_exporter": "python",
   "pygments_lexer": "ipython3",
   "version": "3.8.12"
  },
  "orig_nbformat": 4
 },
 "nbformat": 4,
 "nbformat_minor": 2
}
