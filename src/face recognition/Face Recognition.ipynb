{
 "cells": [
  {
   "cell_type": "markdown",
   "id": "bde63c2b",
   "metadata": {},
   "source": [
    "# DeepFace"
   ]
  },
  {
   "cell_type": "markdown",
   "id": "79ccafc1",
   "metadata": {},
   "source": [
    "## Installation\n",
    "\n",
    "### 1. Install the model\n",
    "Install the model from it's url:\n",
    "#### Verification:\n",
    "* [VGG Weights](https://github.com/serengil/deepface_models/releases/download/v1.0/vgg_face_weights.h5 \"VGG Weights download link from github\")\n",
    "* [Facenet512 Weights](https://github.com/serengil/deepface_models/releases/download/v1.0/facenet512_weights.h5 \"Facenet512 Weights download link from github\")\n",
    "* [DlibResNet Weights](http://dlib.net/files/dlib_face_recognition_resnet_model_v1.dat.bz2 \"DlibResNet Weights download link from github\") <b>(Best on our project)</b>\n",
    "\n",
    "### Detectors:\n",
    "\n",
    "Emotion Detection: [Facial Expression Weights](https://github.com/serengil/deepface_models/releases/download/v1.0/facial_expression_model_weights.h5 \"Facial Expression Weights download link from github\")\n",
    "\n",
    "Face Detector: [Age Model Weights](https://github.com/serengil/deepface_models/releases/download/v1.0/age_model_weights.h5 \"Age Model Weights download link from github\")\n",
    "\n",
    "Face Detector: [Dlib Face Landmarks](http://dlib.net/files/shape_predictor_5_face_landmarks.dat.bz2 \"Dlib Shape Predictor  for face landmarks from dlib website\") (You need to extract the `.dat` file from the `.bz2` file)\n",
    "\n",
    "### 2. Put the all the files in it's folder\n",
    "\n",
    "`<user folder path>\\.deepface\\weights`"
   ]
  },
  {
   "cell_type": "code",
   "execution_count": 2,
   "id": "dd9a11b7",
   "metadata": {},
   "outputs": [],
   "source": [
    "from deepface import DeepFace"
   ]
  },
  {
   "cell_type": "markdown",
   "id": "b93fc24c",
   "metadata": {},
   "source": [
    "# Face Recognition"
   ]
  },
  {
   "cell_type": "code",
   "execution_count": 33,
   "id": "a24196fc",
   "metadata": {},
   "outputs": [
    {
     "name": "stdout",
     "output_type": "stream",
     "text": [
      "{'verified': True, 'distance': 0.22148784592583023, 'max_threshold_to_verify': 0.4, 'model': 'Dlib', 'similarity_metric': 'euclidean_l2'}\n"
     ]
    }
   ],
   "source": [
    "#avaliable models with their sizes\n",
    "#\"VGG-Face 580mb\", \"Facenet 92mb\", \"Facenet512 95mb\", \"OpenFace 15mb\", \"DeepFace 95mb\", \"DeepID 1.6mb\", \"ArcFace 137mb\"\n",
    "#connect to proxy to be able to download the model\n",
    "\n",
    "models = [\"VGG-Face\", \"Facenet\", \"Facenet512\", \"OpenFace\", \"DeepFace\", \"DeepID\", \"ArcFace\", \"Dlib\"]\n",
    "metrics = [\"cosine\", \"euclidean\", \"euclidean_l2\"]\n",
    "result = DeepFace.verify(\"./images/m1.jpg\", \"./images/m3.jpg\",detector_backend=\"dlib\", distance_metric = metrics[2],model_name = models[-1])\n",
    "print(result)"
   ]
  },
  {
   "cell_type": "markdown",
   "id": "4e1b3257",
   "metadata": {},
   "source": [
    "# Face analysis for Age, Gender, Race and Emotion"
   ]
  },
  {
   "cell_type": "code",
   "execution_count": 13,
   "id": "412ab0f7",
   "metadata": {
    "scrolled": true
   },
   "outputs": [
    {
     "name": "stdout",
     "output_type": "stream",
     "text": [
      "{'emotion': {'angry': 0.00036034655295225093, 'disgust': 9.968693622311453e-11, 'fear': 0.0004497202553466195, 'happy': 0.0137378039653413, 'sad': 9.23864170908928, 'surprise': 9.325402672288874e-07, 'neutral': 90.74681401252747}, 'dominant_emotion': 'neutral', 'region': {'x': 664, 'y': 418, 'w': 555, 'h': 555}, 'age': 25, 'gender': 'Man'}\n"
     ]
    }
   ],
   "source": [
    "obj = DeepFace.analyze(img_path = \"./images/me.jpg\", actions = ['emotion',\"age\",\"gender\"],detector_backend=\"dlib\",prog_bar=False)\n",
    "print(obj)"
   ]
  },
  {
   "cell_type": "markdown",
   "id": "c955453c",
   "metadata": {},
   "source": [
    "# Detect one face"
   ]
  },
  {
   "cell_type": "code",
   "execution_count": 72,
   "id": "e53b9910",
   "metadata": {},
   "outputs": [
    {
     "name": "stderr",
     "output_type": "stream",
     "text": []
    }
   ],
   "source": [
    "import cv2\n",
    "\n",
    "backends = ['opencv', 'ssd', 'dlib', 'mtcnn', 'retinaface']\n",
    "face = DeepFace.detectFace(img_path = \"./images/me.jpg\",  detector_backend = backends[3])\n",
    "face = face * 255\n",
    "cv2.imwrite(\"./result/face.jpg\",cv2.cvtColor(face, cv2.COLOR_RGB2BGR))\n"
   ]
  }
 ],
 "metadata": {
  "kernelspec": {
   "display_name": "Python 3 (ipykernel)",
   "language": "python",
   "name": "python3"
  },
  "language_info": {
   "codemirror_mode": {
    "name": "ipython",
    "version": 3
   },
   "file_extension": ".py",
   "mimetype": "text/x-python",
   "name": "python",
   "nbconvert_exporter": "python",
   "pygments_lexer": "ipython3",
   "version": "3.7.11"
  }
 },
 "nbformat": 4,
 "nbformat_minor": 5
}
