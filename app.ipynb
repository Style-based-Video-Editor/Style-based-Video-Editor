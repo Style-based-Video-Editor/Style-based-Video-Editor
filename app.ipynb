{
 "cells": [
  {
   "cell_type": "code",
   "execution_count": 8,
   "id": "2b35da06",
   "metadata": {},
   "outputs": [],
   "source": [
    "import os\n",
    "import subprocess\n",
    "import scenedetect"
   ]
  },
  {
   "cell_type": "code",
   "execution_count": 4,
   "id": "5ff9dc56",
   "metadata": {},
   "outputs": [
    {
     "data": {
      "text/plain": [
       "0"
      ]
     },
     "execution_count": 4,
     "metadata": {},
     "output_type": "execute_result"
    }
   ],
   "source": [
    "#get a thumbnail at a specific time\n",
    "import os\n",
    "import subprocess\n",
    "os.chdir('C://Users\\Munzer\\Senior Project')\n",
    "\n",
    "\n",
    "\n",
    "subprocess.call('ffmpeg -i draven.mp4 -ss 00:00:18.123 -f image2 -vframes 1 yosemite.png', shell=True)\n"
   ]
  },
  {
   "cell_type": "code",
   "execution_count": 3,
   "id": "700178df",
   "metadata": {},
   "outputs": [
    {
     "data": {
      "text/plain": [
       "1"
      ]
     },
     "execution_count": 3,
     "metadata": {},
     "output_type": "execute_result"
    }
   ],
   "source": [
    "#get a picture when a scene changes by 50%\n",
    "subprocess.call('ffmpeg -i draven.mp4 -vf  \"select=gt(scene\\,0.5), scale=640:360\" -vsync vfr yosemiteThumb%03d.png', shell=True)\n"
   ]
  },
  {
   "cell_type": "code",
   "execution_count": 5,
   "id": "224a2364",
   "metadata": {},
   "outputs": [
    {
     "data": {
      "text/plain": [
       "0"
      ]
     },
     "execution_count": 5,
     "metadata": {},
     "output_type": "execute_result"
    }
   ],
   "source": [
    "#using pyscene detect\n",
    "subprocess.call('scenedetect -i lem.mkv detect-content split-video', shell=True)"
   ]
  },
  {
   "cell_type": "code",
   "execution_count": 9,
   "id": "ce9c60f5",
   "metadata": {},
   "outputs": [],
   "source": [
    "from scenedetect import VideoManager\n",
    "from scenedetect import SceneManager\n",
    "\n",
    "# For content-aware scene detection:\n",
    "from scenedetect.detectors import ContentDetector\n",
    "\n",
    "def find_scenes(video_path, threshold=30.0):\n",
    "    # Create our video & scene managers, then add the detector.\n",
    "    video_manager = VideoManager([video_path])\n",
    "    scene_manager = SceneManager()\n",
    "    scene_manager.add_detector(ContentDetector(threshold=threshold))\n",
    "\n",
    "    # Improve processing speed by downscaling before processing.\n",
    "    video_manager.set_downscale_factor()\n",
    "\n",
    "    # Start the video manager and perform the scene detection.\n",
    "    video_manager.start()\n",
    "    scene_manager.detect_scenes(frame_source=video_manager)\n",
    "\n",
    "    # Each returned scene is a tuple of the (start, end) timecode.\n",
    "    return scene_manager.get_scene_list()"
   ]
  },
  {
   "cell_type": "code",
   "execution_count": 32,
   "id": "37a6140c",
   "metadata": {},
   "outputs": [
    {
     "name": "stderr",
     "output_type": "stream",
     "text": [
      "100%|█████████▉| 2044/2045 [00:09<00:00, 216.17frames/s]"
     ]
    },
    {
     "name": "stdout",
     "output_type": "stream",
     "text": [
      "[(FrameTimecode(frame=0, fps=24.000000), FrameTimecode(frame=343, fps=24.000000)), (FrameTimecode(frame=343, fps=24.000000), FrameTimecode(frame=419, fps=24.000000)), (FrameTimecode(frame=419, fps=24.000000), FrameTimecode(frame=492, fps=24.000000)), (FrameTimecode(frame=492, fps=24.000000), FrameTimecode(frame=513, fps=24.000000)), (FrameTimecode(frame=513, fps=24.000000), FrameTimecode(frame=565, fps=24.000000)), (FrameTimecode(frame=565, fps=24.000000), FrameTimecode(frame=1268, fps=24.000000)), (FrameTimecode(frame=1268, fps=24.000000), FrameTimecode(frame=1352, fps=24.000000)), (FrameTimecode(frame=1352, fps=24.000000), FrameTimecode(frame=1407, fps=24.000000)), (FrameTimecode(frame=1407, fps=24.000000), FrameTimecode(frame=1427, fps=24.000000)), (FrameTimecode(frame=1427, fps=24.000000), FrameTimecode(frame=1488, fps=24.000000)), (FrameTimecode(frame=1488, fps=24.000000), FrameTimecode(frame=1522, fps=24.000000)), (FrameTimecode(frame=1522, fps=24.000000), FrameTimecode(frame=1593, fps=24.000000)), (FrameTimecode(frame=1593, fps=24.000000), FrameTimecode(frame=2044, fps=24.000000))]\n"
     ]
    },
    {
     "name": "stderr",
     "output_type": "stream",
     "text": [
      "\n"
     ]
    }
   ],
   "source": [
    "scenes = find_scenes('lem.mkv')\n",
    "print(scenes)"
   ]
  },
  {
   "cell_type": "code",
   "execution_count": 37,
   "id": "35e2648f",
   "metadata": {},
   "outputs": [
    {
     "data": {
      "text/plain": [
       "[(FrameTimecode(frame=0, fps=24.000000),\n",
       "  FrameTimecode(frame=343, fps=24.000000)),\n",
       " (FrameTimecode(frame=343, fps=24.000000),\n",
       "  FrameTimecode(frame=419, fps=24.000000)),\n",
       " (FrameTimecode(frame=419, fps=24.000000),\n",
       "  FrameTimecode(frame=492, fps=24.000000)),\n",
       " (FrameTimecode(frame=492, fps=24.000000),\n",
       "  FrameTimecode(frame=513, fps=24.000000)),\n",
       " (FrameTimecode(frame=513, fps=24.000000),\n",
       "  FrameTimecode(frame=565, fps=24.000000)),\n",
       " (FrameTimecode(frame=565, fps=24.000000),\n",
       "  FrameTimecode(frame=1268, fps=24.000000)),\n",
       " (FrameTimecode(frame=1268, fps=24.000000),\n",
       "  FrameTimecode(frame=1352, fps=24.000000)),\n",
       " (FrameTimecode(frame=1352, fps=24.000000),\n",
       "  FrameTimecode(frame=1407, fps=24.000000)),\n",
       " (FrameTimecode(frame=1407, fps=24.000000),\n",
       "  FrameTimecode(frame=1427, fps=24.000000)),\n",
       " (FrameTimecode(frame=1427, fps=24.000000),\n",
       "  FrameTimecode(frame=1488, fps=24.000000)),\n",
       " (FrameTimecode(frame=1488, fps=24.000000),\n",
       "  FrameTimecode(frame=1522, fps=24.000000)),\n",
       " (FrameTimecode(frame=1522, fps=24.000000),\n",
       "  FrameTimecode(frame=1593, fps=24.000000)),\n",
       " (FrameTimecode(frame=1593, fps=24.000000),\n",
       "  FrameTimecode(frame=2044, fps=24.000000))]"
      ]
     },
     "execution_count": 37,
     "metadata": {},
     "output_type": "execute_result"
    }
   ],
   "source": [
    "frames = []\n",
    "for frame in scenes:\n",
    "    frames.append(frame)\n",
    "    \n",
    "frames"
   ]
  },
  {
   "cell_type": "code",
   "execution_count": 45,
   "id": "4dab62dd",
   "metadata": {},
   "outputs": [
    {
     "ename": "AttributeError",
     "evalue": "'list' object has no attribute 'frame'",
     "output_type": "error",
     "traceback": [
      "\u001b[1;31m---------------------------------------------------------------------------\u001b[0m",
      "\u001b[1;31mAttributeError\u001b[0m                            Traceback (most recent call last)",
      "\u001b[1;32m~\\AppData\\Local\\Temp/ipykernel_16972/3638432987.py\u001b[0m in \u001b[0;36m<module>\u001b[1;34m\u001b[0m\n\u001b[1;32m----> 1\u001b[1;33m \u001b[0mframe\u001b[0m \u001b[1;33m=\u001b[0m \u001b[0mlist\u001b[0m\u001b[1;33m(\u001b[0m\u001b[0mscenes\u001b[0m\u001b[1;33m.\u001b[0m\u001b[0mframe\u001b[0m\u001b[1;33m)\u001b[0m\u001b[1;33m\u001b[0m\u001b[1;33m\u001b[0m\u001b[0m\n\u001b[0m\u001b[0;32m      2\u001b[0m \u001b[0mframe\u001b[0m\u001b[1;33m\u001b[0m\u001b[1;33m\u001b[0m\u001b[0m\n",
      "\u001b[1;31mAttributeError\u001b[0m: 'list' object has no attribute 'frame'"
     ]
    }
   ],
   "source": [
    "frame = list(scenes.frame)\n",
    "frame"
   ]
  },
  {
   "cell_type": "code",
   "execution_count": 20,
   "id": "6478e343",
   "metadata": {},
   "outputs": [
    {
     "ename": "KeyboardInterrupt",
     "evalue": "",
     "output_type": "error",
     "traceback": [
      "\u001b[1;31m---------------------------------------------------------------------------\u001b[0m",
      "\u001b[1;31mKeyboardInterrupt\u001b[0m                         Traceback (most recent call last)",
      "\u001b[1;32m~\\AppData\\Local\\Temp/ipykernel_16972/2967825796.py\u001b[0m in \u001b[0;36m<module>\u001b[1;34m\u001b[0m\n\u001b[0;32m      8\u001b[0m         \u001b[0msuccess\u001b[0m\u001b[1;33m,\u001b[0m\u001b[0mimage\u001b[0m \u001b[1;33m=\u001b[0m \u001b[0mvidcap\u001b[0m\u001b[1;33m.\u001b[0m\u001b[0mread\u001b[0m\u001b[1;33m(\u001b[0m\u001b[1;33m)\u001b[0m\u001b[1;33m\u001b[0m\u001b[1;33m\u001b[0m\u001b[0m\n\u001b[0;32m      9\u001b[0m         \u001b[0mprint\u001b[0m\u001b[1;33m(\u001b[0m\u001b[1;34m'Read a new frame: '\u001b[0m\u001b[1;33m,\u001b[0m \u001b[0msuccess\u001b[0m\u001b[1;33m)\u001b[0m\u001b[1;33m\u001b[0m\u001b[1;33m\u001b[0m\u001b[0m\n\u001b[1;32m---> 10\u001b[1;33m     \u001b[0mcount\u001b[0m \u001b[1;33m+=\u001b[0m \u001b[1;36m1\u001b[0m\u001b[1;33m\u001b[0m\u001b[1;33m\u001b[0m\u001b[0m\n\u001b[0m",
      "\u001b[1;31mKeyboardInterrupt\u001b[0m: "
     ]
    }
   ],
   "source": [
    "import cv2\n",
    "vidcap = cv2.VideoCapture('lem.mkv')\n",
    "success,image = vidcap.read()\n",
    "count = 0\n",
    "while success:\n",
    "    if count == frame:\n",
    "        cv2.imwrite(\"frame%d.jpg\" % count, image)     # save frame as JPEG file      \n",
    "        success,image = vidcap.read()\n",
    "        print('Read a new frame: ', success)\n",
    "    count += 1"
   ]
  },
  {
   "cell_type": "code",
   "execution_count": 27,
   "id": "efbec952",
   "metadata": {},
   "outputs": [
    {
     "ename": "AttributeError",
     "evalue": "'list' object has no attribute 'frame'",
     "output_type": "error",
     "traceback": [
      "\u001b[1;31m---------------------------------------------------------------------------\u001b[0m",
      "\u001b[1;31mAttributeError\u001b[0m                            Traceback (most recent call last)",
      "\u001b[1;32m~\\AppData\\Local\\Temp/ipykernel_16972/309402608.py\u001b[0m in \u001b[0;36m<module>\u001b[1;34m\u001b[0m\n\u001b[1;32m----> 1\u001b[1;33m \u001b[0mprint\u001b[0m\u001b[1;33m(\u001b[0m\u001b[0mscenes\u001b[0m\u001b[1;33m.\u001b[0m\u001b[0mframe\u001b[0m\u001b[1;33m)\u001b[0m\u001b[1;33m\u001b[0m\u001b[1;33m\u001b[0m\u001b[0m\n\u001b[0m",
      "\u001b[1;31mAttributeError\u001b[0m: 'list' object has no attribute 'frame'"
     ]
    }
   ],
   "source": [
    "print(scenes.frame)"
   ]
  },
  {
   "cell_type": "code",
   "execution_count": null,
   "id": "fab23900",
   "metadata": {},
   "outputs": [],
   "source": []
  }
 ],
 "metadata": {
  "kernelspec": {
   "display_name": "Python 3 (ipykernel)",
   "language": "python",
   "name": "python3"
  },
  "language_info": {
   "codemirror_mode": {
    "name": "ipython",
    "version": 3
   },
   "file_extension": ".py",
   "mimetype": "text/x-python",
   "name": "python",
   "nbconvert_exporter": "python",
   "pygments_lexer": "ipython3",
   "version": "3.8.12"
  }
 },
 "nbformat": 4,
 "nbformat_minor": 5
}
