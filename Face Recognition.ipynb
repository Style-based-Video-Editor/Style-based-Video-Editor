{
 "cells": [
  {
   "cell_type": "markdown",
   "id": "57201a35",
   "metadata": {},
   "source": [
    "# pip install deepface"
   ]
  },
  {
   "cell_type": "code",
   "execution_count": 2,
   "id": "dd9a11b7",
   "metadata": {},
   "outputs": [],
   "source": [
    "from deepface import DeepFace"
   ]
  },
  {
   "cell_type": "markdown",
   "id": "b93fc24c",
   "metadata": {},
   "source": [
    "# Face Recognition"
   ]
  },
  {
   "cell_type": "code",
   "execution_count": 9,
   "id": "9b74ee64",
   "metadata": {},
   "outputs": [
    {
     "name": "stdout",
     "output_type": "stream",
     "text": [
      "{'verified': False, 'distance': 0.5811770013691527, 'max_threshold_to_verify': 0.1, 'model': 'OpenFace', 'similarity_metric': 'cosine'}\n"
     ]
    }
   ],
   "source": [
    "#avaliable models with thier sizes\n",
    "#\"VGG-Face 580mb\", \"Facenet 92mb\", \"Facenet512 95mb\", \"OpenFace 15mb\", \"DeepFace 95mb\", \"DeepID 1.6mb\", \"ArcFace 137mb\"\n",
    "#Actviate VPN to be able to download the model\n",
    "\n",
    "result = DeepFace.verify(img1_path = \"m1.jpg\", img2_path = \"m3.jpg\", model_name = \"OpenFace\")\n",
    "print(result)"
   ]
  },
  {
   "cell_type": "code",
   "execution_count": 15,
   "id": "a24196fc",
   "metadata": {},
   "outputs": [
    {
     "name": "stdout",
     "output_type": "stream",
     "text": [
      "{'verified': False, 'distance': 1.0781252375020187, 'max_threshold_to_verify': 0.55, 'model': 'OpenFace', 'similarity_metric': 'euclidean'}\n"
     ]
    }
   ],
   "source": [
    "metrics = [\"cosine\", \"euclidean\", \"euclidean_l2\"]\n",
    "result = DeepFace.verify(\"m1.jpg\", \"m3.jpg\", distance_metric = metrics[1],model_name = \"OpenFace\")\n",
    "print(result)"
   ]
  },
  {
   "cell_type": "markdown",
   "id": "4e1b3257",
   "metadata": {},
   "source": [
    "# Face analysis for Age, Gender, Race and Emotion"
   ]
  },
  {
   "cell_type": "code",
   "execution_count": 7,
   "id": "412ab0f7",
   "metadata": {
    "scrolled": true
   },
   "outputs": [
    {
     "name": "stdout",
     "output_type": "stream",
     "text": [
      "{'emotion': {'angry': 3.149740767509846, 'disgust': 0.0004082032287405913, 'fear': 0.10973160243998736, 'happy': 2.083464836065193, 'sad': 2.2807519026694414, 'surprise': 0.002443407974840402, 'neutral': 92.37345547992521}, 'dominant_emotion': 'neutral', 'region': {'x': 163, 'y': 311, 'w': 736, 'h': 736}}\n"
     ]
    }
   ],
   "source": [
    "obj = DeepFace.analyze(img_path = \"m2.jpg\", actions = ['emotion'])\n",
    "print(obj)"
   ]
  },
  {
   "cell_type": "code",
   "execution_count": null,
   "id": "e53b9910",
   "metadata": {},
   "outputs": [],
   "source": []
  }
 ],
 "metadata": {
  "kernelspec": {
   "display_name": "Python 3 (ipykernel)",
   "language": "python",
   "name": "python3"
  },
  "language_info": {
   "codemirror_mode": {
    "name": "ipython",
    "version": 3
   },
   "file_extension": ".py",
   "mimetype": "text/x-python",
   "name": "python",
   "nbconvert_exporter": "python",
   "pygments_lexer": "ipython3",
   "version": "3.8.12"
  }
 },
 "nbformat": 4,
 "nbformat_minor": 5
}
